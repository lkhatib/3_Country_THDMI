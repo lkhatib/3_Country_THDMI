{
 "cells": [
  {
   "cell_type": "code",
   "execution_count": 175,
   "id": "f2aded2a-1ba2-469d-a07b-f897732955e6",
   "metadata": {},
   "outputs": [],
   "source": [
    "import pandas as pd\n",
    "import numpy as np\n",
    "import qiime2 as q2\n",
    "import biom\n",
    "import skbio"
   ]
  },
  {
   "cell_type": "code",
   "execution_count": 247,
   "id": "d29eef42-df0d-4515-945f-621d656ae2ac",
   "metadata": {
    "tags": []
   },
   "outputs": [
    {
     "name": "stderr",
     "output_type": "stream",
     "text": [
      "/tmp/ipykernel_222108/2357188733.py:2: DtypeWarning: Columns (45,48,64,70,71,72,73,113,119,140,142,160,165,167,177,195,198,200,201,224,252,261,265,266,284,285,300,304,305,306,315,316,319,321,325,328,329,341,342,347,351,354,358,361,368,369,370,374,376,380,384,389,390,397,399,407,408,416,428,431,438,443,446,450,455,460,461,462,463,464,465,470,475,481,485,487,493,504,543,549,562,573,582,585,591,598,602,607,611,612,613,637,643,667,687,697,698,707,708,709,720,727,737,739,743,748,760,769,773,806,809,813,840,844,850,852,870,874,891,892,899,910,912,924,925,926,933,936,940,946,953,955,956) have mixed types. Specify dtype option on import or set low_memory=False.\n",
      "  md = pd.read_csv('../data/subsetted_md.tsv', sep='\\t', index_col=0)\n"
     ]
    }
   ],
   "source": [
    "# load metadata \n",
    "md = pd.read_csv('../data/subsetted_md.tsv', sep='\\t', index_col=0)\n",
    "md = md.loc[md.index.intersection(md.index)]\n",
    "# of the categorical columns, remove those that do not have at least 2 categories with less than 5 people in them \n",
    "cat_columns = md.dtypes[(md.dtypes != 'float64')].index\n",
    "cat_to_remove = []\n",
    "for c in cat_columns: \n",
    "    if len(md[c].dropna().unique()) < 2: \n",
    "        cat_to_remove.append(c)\n",
    "    elif md[c].value_counts().min() < 5: \n",
    "        cat_to_remove.append(c) \n",
    "\n",
    "# also remove columns that are only present in one thdmi cohort\n",
    "only_one_thdmi_cohort = []\n",
    "for c in md.columns: \n",
    "    sub_md = md.loc[md[c].notna()] \n",
    "    if len(sub_md.thdmi_cohort.unique()) == 1: \n",
    "        only_one_thdmi_cohort.append(c) \n",
    "\n",
    "md.drop(columns = cat_to_remove + only_one_thdmi_cohort, inplace=True)    \n",
    "\n",
    "# rename columns\n",
    "md.columns = [c.replace('+', 'and').replace('=', 'to').replace('[', '_').replace(']', '_').replace(';', '_').replace('&', 'and').replace('/', 'or').replace(' ', '') for c in md.columns]"
   ]
  },
  {
   "cell_type": "code",
   "execution_count": 248,
   "id": "2269c8c6-33a8-4fb4-ab64-048b7c1a1a24",
   "metadata": {},
   "outputs": [],
   "source": [
    "md = md.dropna(axis=1, how='all')"
   ]
  },
  {
   "cell_type": "code",
   "execution_count": 249,
   "id": "a123822a-9aae-4563-a6c9-8e858909517b",
   "metadata": {},
   "outputs": [],
   "source": [
    "md.rename_axis(index='SampleID', inplace=True)\n",
    "md.to_csv('../data/md_for_adonis.tsv', sep='\\t')"
   ]
  },
  {
   "cell_type": "code",
   "execution_count": 250,
   "id": "017eb230-8ac2-4e6a-a3cf-ba13b890f720",
   "metadata": {},
   "outputs": [],
   "source": [
    "hei = []\n",
    "\n",
    "for col in md.columns:\n",
    "    if 'hei2' in col.lower():\n",
    "        hei.append(col)\n",
    "        \n",
    "md = md.drop(columns=hei)"
   ]
  },
  {
   "cell_type": "code",
   "execution_count": 251,
   "id": "980f92a0-d63c-451f-ad38-f28c976aef1f",
   "metadata": {},
   "outputs": [],
   "source": [
    "diet_cols = []\n",
    "\n",
    "diet_names = ['Servings', 'Amount', 'Collapsed', 'MPED', 'Calories', 'Grams']\n",
    "\n",
    "for name in diet_names:\n",
    "    for col in md.columns:\n",
    "        if name.lower() in col.lower():\n",
    "            diet_cols.append(col)\n",
    "md = md.drop(columns=diet_cols)"
   ]
  },
  {
   "cell_type": "code",
   "execution_count": 252,
   "id": "a21aa0ac-2155-4663-9d9c-b1ee3d79d1e4",
   "metadata": {},
   "outputs": [],
   "source": [
    "columns_to_examine = md.columns"
   ]
  },
  {
   "cell_type": "code",
   "execution_count": 253,
   "id": "f0949071-8473-4f33-9aa5-581ace0b3a05",
   "metadata": {},
   "outputs": [],
   "source": [
    "pd.DataFrame(data={'columns': columns_to_examine}).to_csv(\"cols_for_examination.csv\")"
   ]
  },
  {
   "cell_type": "code",
   "execution_count": 199,
   "id": "8dceb5f6-5f1e-4be3-b884-6e59be011fb3",
   "metadata": {},
   "outputs": [],
   "source": [
    "#run 1_run_alpha_beta.sh and 2_run_adonis.sh"
   ]
  }
 ],
 "metadata": {
  "kernelspec": {
   "display_name": "TESTING_qiime2-2023.5",
   "language": "python",
   "name": "testing_2023.5"
  },
  "language_info": {
   "codemirror_mode": {
    "name": "ipython",
    "version": 3
   },
   "file_extension": ".py",
   "mimetype": "text/x-python",
   "name": "python",
   "nbconvert_exporter": "python",
   "pygments_lexer": "ipython3",
   "version": "3.8.16"
  }
 },
 "nbformat": 4,
 "nbformat_minor": 5
}
