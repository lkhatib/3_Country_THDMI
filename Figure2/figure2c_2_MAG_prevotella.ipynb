{
 "cells": [
  {
   "cell_type": "code",
   "execution_count": 1,
   "id": "a9c49347-b47b-4126-a66b-efd64d729279",
   "metadata": {},
   "outputs": [],
   "source": [
    "import qiime2 as q2\n",
    "import pandas as pd\n",
    "import numpy as np\n",
    "import biom "
   ]
  },
  {
   "cell_type": "code",
   "execution_count": 2,
   "id": "805609c8-80e5-40fb-a683-a4cf0b498276",
   "metadata": {},
   "outputs": [],
   "source": [
    "mag_wol_ft = q2.Artifact.load('/projects/thdmi/MAGs/feature-tables/woltka_biom.mag.qza') \n",
    "mag_wol_tax = pd.read_csv('/projects/thdmi/MAGs/annotations/gtdbtk-renamed/classify/classify/gtdbtk.bac120.summary.tsv', sep='\\t', index_col=0)\n",
    "\n",
    "to_keep = biom.load_table('/projects/thdmi/feature-tables/wol2_filtered_table_zebra_bmi.biom') "
   ]
  },
  {
   "cell_type": "code",
   "execution_count": 3,
   "id": "5a4b43cc-2fc5-4c2d-8d2b-7bbe1a85c69d",
   "metadata": {},
   "outputs": [],
   "source": [
    "prev_genomes = mag_wol_tax.loc[mag_wol_tax.classification.str.contains('Prevotella')]\n",
    "faec_genomes = mag_wol_tax.loc[mag_wol_tax.classification.str.contains('Faecalibacterium')]\n",
    "prev_taxonomy = prev_genomes['classification'].str.split(';', expand=True)\n",
    "faec_taxonomy = faec_genomes['classification'].str.split(';', expand=True)\n",
    "\n",
    "prev_taxonomy['species_name'] = np.where(prev_taxonomy[6] == 's__', 'Prevotella_MAG_' + prev_taxonomy[6].index, \n",
    "                                         prev_taxonomy[6].str.replace(' ', '_'))\n",
    "faec_taxonomy['species_name'] = np.where(faec_taxonomy[6] == 's__', 'Faecalibacterium_MAG_' + faec_taxonomy[6].index, \n",
    "                                         faec_taxonomy[6].str.replace(' ', '_'))\n",
    "prev_taxonomy['species_name'] = np.where(prev_taxonomy[6] == 's__Prevotella copri', 'Prevotella_copri_' + prev_taxonomy[6].index, \n",
    "                                         prev_taxonomy['species_name'].str.replace('s__', ''))\n",
    "faec_taxonomy['species_name'] = np.where(faec_taxonomy['species_name'] == 's__Faecalibacterium_prausnitzii_J', 'Faecalibacterium_prausnitzii_J_' + faec_taxonomy[6].index, \n",
    "                                         faec_taxonomy['species_name'].str.replace('s__', ''))\n",
    "faec_taxonomy['species_name'] = np.where(faec_taxonomy['species_name'] == 'Faecalibacterium_prausnitzii', 'Faecalibacterium_prausnitzii_' + faec_taxonomy[6].index, \n",
    "                                         faec_taxonomy['species_name'])\n",
    "\n",
    "prev_taxonomy_key = prev_taxonomy['species_name'].to_dict()\n",
    "faec_taxonomy_key = faec_taxonomy['species_name'].to_dict()"
   ]
  },
  {
   "cell_type": "code",
   "execution_count": 4,
   "id": "55145e94-b0f4-4c63-9a35-1eef8bb814d2",
   "metadata": {},
   "outputs": [
    {
     "name": "stderr",
     "output_type": "stream",
     "text": [
      "/tmp/ipykernel_193804/1107671229.py:4: SettingWithCopyWarning: \n",
      "A value is trying to be set on a copy of a slice from a DataFrame\n",
      "\n",
      "See the caveats in the documentation: https://pandas.pydata.org/pandas-docs/stable/user_guide/indexing.html#returning-a-view-versus-a-copy\n",
      "  prev_mag_ft.rename(columns=prev_taxonomy_key, inplace=True)\n",
      "/tmp/ipykernel_193804/1107671229.py:7: SettingWithCopyWarning: \n",
      "A value is trying to be set on a copy of a slice from a DataFrame\n",
      "\n",
      "See the caveats in the documentation: https://pandas.pydata.org/pandas-docs/stable/user_guide/indexing.html#returning-a-view-versus-a-copy\n",
      "  faec_mag_ft.rename(columns=faec_taxonomy_key, inplace=True)\n"
     ]
    }
   ],
   "source": [
    "mag_ft_df = mag_wol_ft.view(pd.DataFrame)\n",
    "mag_ft_df = mag_ft_df.loc[mag_ft_df.index.intersection(to_keep.ids())]\n",
    "prev_mag_ft = mag_ft_df[mag_ft_df.columns.intersection(prev_genomes.index)]\n",
    "prev_mag_ft.rename(columns=prev_taxonomy_key, inplace=True)\n",
    "\n",
    "faec_mag_ft = mag_ft_df[mag_ft_df.columns.intersection(faec_genomes.index)]\n",
    "faec_mag_ft.rename(columns=faec_taxonomy_key, inplace=True)\n",
    "\n",
    "prev_mag_lr = prev_mag_ft.copy()\n",
    "faec_mag_lr = faec_mag_ft.copy()\n",
    "\n",
    "row_sum = prev_mag_ft.sum(axis=1)\n",
    "row_sum_faec = faec_mag_lr.sum(axis=1)\n",
    "\n",
    "for c in prev_mag_lr.columns: \n",
    "    prev_mag_lr[c] = np.log((prev_mag_lr[c] + 1) / row_sum)\n",
    "\n",
    "for c in faec_mag_lr.columns: \n",
    "    faec_mag_lr[c] = np.log((faec_mag_lr[c] + 1) / row_sum_faec)"
   ]
  },
  {
   "cell_type": "code",
   "execution_count": 6,
   "id": "0faf7cde-297a-4683-9928-cf140a99a64b",
   "metadata": {},
   "outputs": [],
   "source": [
    "log_ratios = pd.read_csv(\"log_ratio_foods_analysis.csv\", index_col=0)\n",
    "main_diet_vars = pd.read_csv('main_diet_variables.txt', sep='\\t')"
   ]
  },
  {
   "cell_type": "code",
   "execution_count": 7,
   "id": "c2695558-a9aa-489b-ac29-2e250a3a1d5f",
   "metadata": {},
   "outputs": [
    {
     "name": "stderr",
     "output_type": "stream",
     "text": [
      "/tmp/ipykernel_193804/2904471605.py:1: DtypeWarning: Columns (1511) have mixed types. Specify dtype option on import or set low_memory=False.\n",
      "  metadata = pd.read_csv('/projects/thdmi/metadata/consolidated_metadata_subset.tsv', sep='\\t', index_col=0)\n"
     ]
    }
   ],
   "source": [
    "metadata = pd.read_csv('/projects/thdmi/metadata/consolidated_metadata_subset.tsv', sep='\\t', index_col=0)"
   ]
  },
  {
   "cell_type": "code",
   "execution_count": 8,
   "id": "bd714114-31cd-4700-a671-f6dc6fd629c3",
   "metadata": {},
   "outputs": [],
   "source": [
    "prev_mag_sex = prev_mag_lr.merge(metadata[['sex', 'thdmi_cohort']], right_index=True, left_index=True).groupby(['thdmi_cohort', 'sex']).mean()\n",
    "prev_mag_sex.index = ['_'.join(i) for i in prev_mag_sex.index]"
   ]
  },
  {
   "cell_type": "code",
   "execution_count": 9,
   "id": "c9c516c9-10c6-4b48-949d-e6c1f4819821",
   "metadata": {},
   "outputs": [],
   "source": [
    "pd.DataFrame(data={'cols':prev_mag_ft.columns}).to_csv('prevotella_cols.csv')"
   ]
  },
  {
   "cell_type": "code",
   "execution_count": 12,
   "id": "5cc41c50-25b8-4e03-ac0c-55bdc3bf2063",
   "metadata": {},
   "outputs": [],
   "source": [
    "for_lmer = log_ratios[log_ratios.columns.intersection(main_diet_vars.variable_name).union(['thdmi_cohort', 'covid_level_of_wellbeing_coded', 'bmi_cat_coded', \n",
    "                                                                                           'antibiotic_history_coded', 'log_Prevotella_to_Bacteroides', \n",
    "                                                                                           'Amount_Energy_in_kcal', 'sex'])]\n",
    "full_data = for_lmer.merge(prev_mag_lr, right_index=True, left_index=True)\n",
    "full_data['diet_type_coded'].replace({'Non-Vegetarian': 0, 'Vegetarian': 1}, inplace=True)\n",
    "full_data['specialized_diet_exclude_dairy'].replace({False: 0, True: 1}, inplace=True)\n",
    "full_data['specialized_diet_exclude_refined_sugars'].replace({False: 0, True: 1}, inplace=True)\n",
    "full_data.to_csv('prevotella_lmer.csv')"
   ]
  },
  {
   "cell_type": "code",
   "execution_count": 13,
   "id": "8eddcbac-1113-4019-8aac-932963f92fdf",
   "metadata": {},
   "outputs": [],
   "source": [
    "full_data = for_lmer.merge(faec_mag_lr, right_index=True, left_index=True)\n",
    "full_data['diet_type_coded'].replace({'Non-Vegetarian': 0, 'Vegetarian': 1}, inplace=True)\n",
    "full_data['specialized_diet_exclude_dairy'].replace({False: 0, True: 1}, inplace=True)\n",
    "full_data['specialized_diet_exclude_refined_sugars'].replace({False: 0, True: 1}, inplace=True)\n",
    "full_data.to_csv('faecalibacterium_lmer.csv')"
   ]
  },
  {
   "cell_type": "code",
   "execution_count": 14,
   "id": "5146b763-009f-4e9a-80a5-9c0d74c301d3",
   "metadata": {},
   "outputs": [],
   "source": [
    "prev_high = full_data.loc[full_data['log_Prevotella_to_Bacteroides'] >= 0]\n",
    "prev_low = full_data.loc[full_data['log_Prevotella_to_Bacteroides'] < 0]\n",
    "\n",
    "prev_mx = full_data.loc[full_data['thdmi_cohort'] == 'Mexico']\n",
    "prev_uk = full_data.loc[full_data['thdmi_cohort'] == 'UK']\n",
    "prev_us = full_data.loc[full_data['thdmi_cohort'] == 'US']"
   ]
  },
  {
   "cell_type": "code",
   "execution_count": 15,
   "id": "80bade22-d246-4c2f-b2ad-6ff2396cdf7e",
   "metadata": {},
   "outputs": [],
   "source": [
    "prev_high.to_csv('prevotella_high.csv') \n",
    "prev_low.to_csv('lprevotella_low.csv') \n",
    "prev_mx.to_csv('prevotella_mexico.csv') \n",
    "prev_uk.to_csv('prevotella_uk.csv') \n",
    "prev_us.to_csv('prevotella_us.csv') "
   ]
  }
 ],
 "metadata": {
  "kernelspec": {
   "display_name": "TESTING_qiime2-2023.5",
   "language": "python",
   "name": "testing_2023.5"
  },
  "language_info": {
   "codemirror_mode": {
    "name": "ipython",
    "version": 3
   },
   "file_extension": ".py",
   "mimetype": "text/x-python",
   "name": "python",
   "nbconvert_exporter": "python",
   "pygments_lexer": "ipython3",
   "version": "3.8.16"
  }
 },
 "nbformat": 4,
 "nbformat_minor": 5
}
