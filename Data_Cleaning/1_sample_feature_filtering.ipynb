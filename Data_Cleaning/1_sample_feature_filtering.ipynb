{
 "cells": [
  {
   "cell_type": "code",
   "execution_count": 80,
   "id": "097c8bbb-e27f-4c71-aa01-28bce53ce55e",
   "metadata": {},
   "outputs": [],
   "source": [
    "import pandas as pd\n",
    "import qiime2 as q2\n",
    "import biom"
   ]
  },
  {
   "cell_type": "markdown",
   "id": "e3a07095-a0e4-46ec-9ed6-9f19313b23bc",
   "metadata": {},
   "source": [
    "## Genome Coverage Filter"
   ]
  },
  {
   "cell_type": "code",
   "execution_count": 85,
   "id": "a6e71a99-1865-4bbd-b354-967d6be1a31d",
   "metadata": {},
   "outputs": [
    {
     "name": "stderr",
     "output_type": "stream",
     "text": [
      "/tmp/ipykernel_245036/299696563.py:1: DtypeWarning: Columns (311,492,532,866) have mixed types. Specify dtype option on import or set low_memory=False.\n",
      "  md = pd.read_csv('../data/64306_64306_analysis_mapping.txt', sep = '\\t', dtype={'#SampleID': str}).set_index('#SampleID')\n"
     ]
    }
   ],
   "source": [
    "md = pd.read_csv('../data/64306_64306_analysis_mapping.txt', sep = '\\t', dtype={'#SampleID': str}).set_index('#SampleID')"
   ]
  },
  {
   "cell_type": "code",
   "execution_count": 86,
   "id": "9d17dda8-2f2d-4fad-a12f-7166e6c46958",
   "metadata": {},
   "outputs": [],
   "source": [
    "#Feature table from Qiita analysis 64306\n",
    "qiita_table = biom.load_table(\"/home/lakhatib/thdmi/data/64306_analysis_Metagenomic_Woltkav014DatabasescratchqpwoltkaWoLr2WoLr2BIOMnonebiom.biom\").to_dataframe().transpose()\n",
    "#import coverages from Micov\n",
    "cov = pd.read_csv('coverages.coverage.tsv', sep = '\\t')"
   ]
  },
  {
   "cell_type": "code",
   "execution_count": 87,
   "id": "b427a07d-0b79-46ea-90a7-81f526c54cb2",
   "metadata": {},
   "outputs": [
    {
     "data": {
      "text/plain": [
       "1337"
      ]
     },
     "execution_count": 87,
     "metadata": {},
     "output_type": "execute_result"
    }
   ],
   "source": [
    "ft = qiita_table.transpose()\n",
    "cov = cov.set_index('genome_id')\n",
    "\n",
    "cov = cov.loc[cov.index.intersection(ft.index)]\n",
    "\n",
    "ft['percent_covered'] = cov['percent_covered']\n",
    "\n",
    "#check how many features will remain with a 15% threshold \n",
    "sum(ft['percent_covered'] > 25)"
   ]
  },
  {
   "cell_type": "code",
   "execution_count": 88,
   "id": "9984a115-7328-48cf-a0fc-75d162b2cacb",
   "metadata": {},
   "outputs": [],
   "source": [
    "#apply filter\n",
    "ft_filtered = ft[ft['percent_covered']  > 25]\n",
    "ft_filtered = ft_filtered.transpose()\n",
    "\n",
    "ft_filtered = ft_filtered.drop(\"percent_covered\")"
   ]
  },
  {
   "cell_type": "markdown",
   "id": "17b7d959-7865-4e7a-93b4-0deb3f04264b",
   "metadata": {},
   "source": [
    "## Sample Filtering"
   ]
  },
  {
   "cell_type": "code",
   "execution_count": 89,
   "id": "8b4861dc-ad23-41bc-8ca2-15158b0c7071",
   "metadata": {},
   "outputs": [
    {
     "name": "stdout",
     "output_type": "stream",
     "text": [
      "Total Samples: 2747\n",
      "Mexico            549\n",
      "US                534\n",
      "Japan             524\n",
      "Spain             481\n",
      "UK                366\n",
      "not applicable    277\n",
      "unknown            10\n",
      "control sample      6\n",
      "Name: thdmi_cohort, dtype: int64\n"
     ]
    }
   ],
   "source": [
    "print(f\"Total Samples: {len(md)}\")\n",
    "print(md['thdmi_cohort'].value_counts())"
   ]
  },
  {
   "cell_type": "code",
   "execution_count": 90,
   "id": "f78fb87e-1449-4562-aa0f-99e3db3d6df1",
   "metadata": {},
   "outputs": [],
   "source": [
    "#filter to valid countries\n",
    "md = md.loc[md['thdmi_cohort'].isin(['Mexico', 'US', 'UK'])]"
   ]
  },
  {
   "cell_type": "code",
   "execution_count": 91,
   "id": "529efef0-870d-4ba9-966e-5023fac6b9aa",
   "metadata": {},
   "outputs": [
    {
     "name": "stdout",
     "output_type": "stream",
     "text": [
      "Total Samples: 1449\n",
      "Mexico    549\n",
      "US        534\n",
      "UK        366\n",
      "Name: thdmi_cohort, dtype: int64\n"
     ]
    }
   ],
   "source": [
    "print(f\"Total Samples: {len(md)}\")\n",
    "print(md['thdmi_cohort'].value_counts())"
   ]
  },
  {
   "cell_type": "code",
   "execution_count": 92,
   "id": "ff7d4972-9069-4860-8e05-9d74d716b566",
   "metadata": {},
   "outputs": [],
   "source": [
    "md = md.loc[md.keep_sample_for_thdmi == 'yes']"
   ]
  },
  {
   "cell_type": "code",
   "execution_count": 93,
   "id": "dd67f909-3747-455f-a834-e16e8f10b099",
   "metadata": {},
   "outputs": [
    {
     "name": "stdout",
     "output_type": "stream",
     "text": [
      "Total Samples: 1291\n",
      "Mexico    507\n",
      "US        442\n",
      "UK        342\n",
      "Name: thdmi_cohort, dtype: int64\n"
     ]
    }
   ],
   "source": [
    "print(f\"Total Samples: {len(md)}\")\n",
    "print(md['thdmi_cohort'].value_counts())"
   ]
  },
  {
   "cell_type": "code",
   "execution_count": 94,
   "id": "3f6f8c7d-f8ca-4dea-be72-fa73d98b1ac2",
   "metadata": {},
   "outputs": [],
   "source": [
    "md = md.loc[md.index.intersection(ft_filtered.index)]"
   ]
  },
  {
   "cell_type": "code",
   "execution_count": 95,
   "id": "365a7506-fea0-4380-9ee4-30f69857ea4d",
   "metadata": {},
   "outputs": [
    {
     "name": "stdout",
     "output_type": "stream",
     "text": [
      "Total Samples: 1291\n",
      "Mexico    507\n",
      "US        442\n",
      "UK        342\n",
      "Name: thdmi_cohort, dtype: int64\n"
     ]
    }
   ],
   "source": [
    "print(f\"Total Samples: {len(md)}\")\n",
    "print(md['thdmi_cohort'].value_counts())"
   ]
  },
  {
   "cell_type": "code",
   "execution_count": 96,
   "id": "bb097f68-a78a-4389-a00a-94dbc066be95",
   "metadata": {},
   "outputs": [],
   "source": [
    "#drop samples with invalid covariates\n",
    "import numpy as np\n",
    "\n",
    "md = md.loc[md['host_age'] != 'not provided']\n",
    "md['host_age'] = md['host_age'].astype('float')\n",
    "md = md.loc[(md['host_age'] >= 18) & (md['host_age'] <= 100)]\n",
    "\n",
    "md['host_body_mass_index'] = md['host_body_mass_index'].replace('not provided', np.nan)\n",
    "\n",
    "md['host_body_mass_index'] = md['host_body_mass_index'].astype(float)\n",
    "\n",
    "md['host_body_mass_index'] = np.where((md['host_body_mass_index'] < 12) | (md['host_body_mass_index'] > 70), np.nan, \n",
    "                                            md['host_body_mass_index']) \n",
    "\n",
    "md['covid_level_of_wellbeing'] = md['covid_level_of_wellbeing'].replace('not provided', np.nan)\n",
    "\n",
    "md['antibiotic_history'] = md['antibiotic_history'].replace('not provided', np.nan)\n",
    "\n",
    "md = md.dropna(subset = ['antibiotic_history', 'covid_level_of_wellbeing', 'host_body_mass_index', 'host_age'])"
   ]
  },
  {
   "cell_type": "code",
   "execution_count": 97,
   "id": "c619fe2a-36be-4b80-994b-23ef6f182e3c",
   "metadata": {},
   "outputs": [
    {
     "name": "stdout",
     "output_type": "stream",
     "text": [
      "Total Samples: 1218\n",
      "Mexico    497\n",
      "US        412\n",
      "UK        309\n",
      "Name: thdmi_cohort, dtype: int64\n"
     ]
    }
   ],
   "source": [
    "print(f\"Total Samples: {len(md)}\")\n",
    "print(md['thdmi_cohort'].value_counts())"
   ]
  },
  {
   "cell_type": "code",
   "execution_count": 98,
   "id": "1ebd9b09-dea4-446d-9b6c-a5e92bca9fcf",
   "metadata": {},
   "outputs": [],
   "source": [
    "#match ft samples to metadata\n",
    "ft_filtered = ft_filtered.loc[ft_filtered.index.intersection(md.index)]"
   ]
  },
  {
   "cell_type": "markdown",
   "id": "a2d1e636-767c-4450-b8cf-604bc9302aa6",
   "metadata": {},
   "source": [
    "## Feature Filtering"
   ]
  },
  {
   "cell_type": "code",
   "execution_count": 99,
   "id": "5e196a93-6264-4d9b-8b3b-f4647b58403e",
   "metadata": {},
   "outputs": [
    {
     "data": {
      "text/plain": [
       "'../data/filtered_feature-table.qza'"
      ]
     },
     "execution_count": 99,
     "metadata": {},
     "output_type": "execute_result"
    }
   ],
   "source": [
    "#save as .qza \n",
    "\n",
    "ft_q2 = q2.Artifact.import_data('FeatureTable[Frequency]', ft_filtered)\n",
    "ft_q2.save('../data/filtered_feature-table.qza')"
   ]
  },
  {
   "cell_type": "code",
   "execution_count": 100,
   "id": "cd3e8aac-0fe0-470c-88de-5ef0c0919ff1",
   "metadata": {},
   "outputs": [
    {
     "name": "stdout",
     "output_type": "stream",
     "text": [
      "\u001b[32mSaved FeatureTable[Frequency] to: /home/lakhatib/3country/final_scripts/data/gg2_filtered-feature-table.qza\u001b[0m\n",
      "\u001b[0m"
     ]
    }
   ],
   "source": [
    "# filter against gg2\n",
    "!qiime greengenes2 filter-features --i-feature-table /home/lakhatib/3country/final_scripts/data/filtered_feature-table.qza --i-reference /home/mcdonadt/greengenes2/release/2022.10/2022.10.taxonomy.asv.nwk.qza --o-filtered-feature-table /home/lakhatib/3country/final_scripts/data/gg2_filtered-feature-table.qza"
   ]
  },
  {
   "cell_type": "code",
   "execution_count": 101,
   "id": "5e5463fb-7000-438f-8639-6e5eb52c7332",
   "metadata": {},
   "outputs": [],
   "source": [
    "#upload filtered table\n",
    "ft_q2 = q2.Artifact.load('/home/lakhatib/3country/final_scripts/data/gg2_filtered-feature-table.qza')\n",
    "ft = ft_q2.view(pd.DataFrame)"
   ]
  },
  {
   "cell_type": "code",
   "execution_count": 102,
   "id": "ba8542ac-e9fe-4c1c-b225-a9846238faa7",
   "metadata": {},
   "outputs": [
    {
     "name": "stdout",
     "output_type": "stream",
     "text": [
      "944\n"
     ]
    }
   ],
   "source": [
    "print(len(ft.columns))"
   ]
  },
  {
   "cell_type": "code",
   "execution_count": 103,
   "id": "30cc3586-fe13-43d5-9671-f185d9f4e56f",
   "metadata": {},
   "outputs": [],
   "source": [
    "# Define the threshold for relative abundance\n",
    "relative_abundance_threshold = 0.000001  # 0.0001%"
   ]
  },
  {
   "cell_type": "code",
   "execution_count": 104,
   "id": "73f136d5-7c13-418d-a662-bbd36bf7ac14",
   "metadata": {},
   "outputs": [],
   "source": [
    "#Calculate total abundance for each sample\n",
    "ft_ra = ft.copy()\n",
    "ft_ra['total_abundance'] = ft.sum(axis=1)"
   ]
  },
  {
   "cell_type": "code",
   "execution_count": 105,
   "id": "83a64555-c643-492d-ac5e-4d3ddf024594",
   "metadata": {},
   "outputs": [],
   "source": [
    "ft_ra['total_abundance'] = ft_ra['total_abundance'] * relative_abundance_threshold"
   ]
  },
  {
   "cell_type": "code",
   "execution_count": 106,
   "id": "dae0f7fa-73b7-41fe-a716-ecc8bbab6090",
   "metadata": {},
   "outputs": [],
   "source": [
    "# Apply the threshold to each feature to check if it meets the relative abundance threshold\n",
    "features_above_threshold = ft_ra.iloc[:, :-1].ge(ft_ra['total_abundance'], axis=0)"
   ]
  },
  {
   "cell_type": "code",
   "execution_count": 107,
   "id": "22ee1cf3-3705-4cda-85c1-670d1c3c4f23",
   "metadata": {},
   "outputs": [],
   "source": [
    "# Step 1: Calculate the percentage of samples where each feature meets the threshold\n",
    "feature_prevalence = features_above_threshold.mean(axis=0)"
   ]
  },
  {
   "cell_type": "code",
   "execution_count": 108,
   "id": "4e28d1f5-29bb-4f1a-b274-efcbbc845614",
   "metadata": {},
   "outputs": [],
   "source": [
    "# Step 2: Filter out features with prevalence < 10%\n",
    "prevalence_threshold = 0.1  # 10%\n",
    "features_to_keep = feature_prevalence[feature_prevalence >= prevalence_threshold].index"
   ]
  },
  {
   "cell_type": "code",
   "execution_count": 109,
   "id": "28ce6628-9c0b-4fa2-a197-2e6dbb8bc6cc",
   "metadata": {},
   "outputs": [],
   "source": [
    "# Filter the original dataframe to keep only these features\n",
    "filtered_features_df = ft_ra[features_to_keep]"
   ]
  },
  {
   "cell_type": "code",
   "execution_count": 110,
   "id": "d6a21eb9-87c1-4b07-8bd1-7f5e99b589a6",
   "metadata": {},
   "outputs": [],
   "source": [
    "filtered_features_df = filtered_features_df.loc[filtered_features_df.sum(axis=1) >= 1000000]"
   ]
  },
  {
   "cell_type": "code",
   "execution_count": 111,
   "id": "b6b063da-0387-4631-b8eb-58b9f3adf84c",
   "metadata": {},
   "outputs": [
    {
     "data": {
      "text/plain": [
       "1001132.0"
      ]
     },
     "execution_count": 111,
     "metadata": {},
     "output_type": "execute_result"
    }
   ],
   "source": [
    "#make sure all samples are above 1000000\n",
    "filtered_features_df.sum(axis=1).min()"
   ]
  },
  {
   "cell_type": "code",
   "execution_count": 112,
   "id": "cabb8b31-d1b5-4536-b1ec-762bb86ba69d",
   "metadata": {},
   "outputs": [],
   "source": [
    "md = md.loc[md.index.intersection(filtered_features_df.index)]"
   ]
  },
  {
   "cell_type": "code",
   "execution_count": 113,
   "id": "e8f74e6e-bc40-424d-8cf4-705444e9e43d",
   "metadata": {},
   "outputs": [
    {
     "name": "stdout",
     "output_type": "stream",
     "text": [
      "Total Samples: 1177\n",
      "Mexico    460\n",
      "US        410\n",
      "UK        307\n",
      "Name: thdmi_cohort, dtype: int64\n"
     ]
    }
   ],
   "source": [
    "print(f\"Total Samples: {len(md)}\")\n",
    "print(md['thdmi_cohort'].value_counts())"
   ]
  },
  {
   "cell_type": "code",
   "execution_count": 114,
   "id": "9004c18b-96be-4c19-8248-895a71af2a1b",
   "metadata": {},
   "outputs": [],
   "source": [
    "md = md.rename_axis('#SampleID')"
   ]
  },
  {
   "cell_type": "code",
   "execution_count": 115,
   "id": "f1664b90-e449-4dcc-88f4-82c4a70d3762",
   "metadata": {},
   "outputs": [],
   "source": [
    "md.to_csv('../data/subsetted_md.tsv', sep = '\\t')"
   ]
  },
  {
   "cell_type": "code",
   "execution_count": 116,
   "id": "abf5457f-73de-4d87-a759-e1a18ac80c17",
   "metadata": {},
   "outputs": [],
   "source": [
    "filtered_features_df = filtered_features_df.loc[filtered_features_df.index.intersection(md.index)]"
   ]
  },
  {
   "cell_type": "code",
   "execution_count": 117,
   "id": "c429ac04-f03e-4667-9ea7-cdc871afc0a9",
   "metadata": {},
   "outputs": [],
   "source": [
    "filtered_features_df.to_csv('../data/filtered_ft.tsv', sep = '\\t')"
   ]
  },
  {
   "cell_type": "code",
   "execution_count": 118,
   "id": "b1a85b08-8546-48c5-a5b4-7a12fef29c7d",
   "metadata": {},
   "outputs": [],
   "source": [
    "filtered_features_q2 = q2.Artifact.import_data('FeatureTable[Frequency]', filtered_features_df)"
   ]
  },
  {
   "cell_type": "code",
   "execution_count": 119,
   "id": "31dc6542-5b77-49ef-bb98-00b4d8e8d078",
   "metadata": {},
   "outputs": [
    {
     "data": {
      "text/plain": [
       "'../data/filtered_ft.qza'"
      ]
     },
     "execution_count": 119,
     "metadata": {},
     "output_type": "execute_result"
    }
   ],
   "source": [
    "filtered_features_q2.save('../data/filtered_ft.qza')"
   ]
  },
  {
   "cell_type": "code",
   "execution_count": 120,
   "id": "5d4c1a08-b758-4266-9399-fa571bdec8d5",
   "metadata": {},
   "outputs": [
    {
     "data": {
      "text/html": [
       "<div>\n",
       "<style scoped>\n",
       "    .dataframe tbody tr th:only-of-type {\n",
       "        vertical-align: middle;\n",
       "    }\n",
       "\n",
       "    .dataframe tbody tr th {\n",
       "        vertical-align: top;\n",
       "    }\n",
       "\n",
       "    .dataframe thead th {\n",
       "        text-align: right;\n",
       "    }\n",
       "</style>\n",
       "<table border=\"1\" class=\"dataframe\">\n",
       "  <thead>\n",
       "    <tr style=\"text-align: right;\">\n",
       "      <th></th>\n",
       "      <th>G000006605</th>\n",
       "      <th>G000006865</th>\n",
       "      <th>G000006925</th>\n",
       "      <th>G000007265</th>\n",
       "      <th>G000007325</th>\n",
       "      <th>G000007465</th>\n",
       "      <th>G000007525</th>\n",
       "      <th>G000007785</th>\n",
       "      <th>G000008345</th>\n",
       "      <th>G000008865</th>\n",
       "      <th>...</th>\n",
       "      <th>G902363595</th>\n",
       "      <th>G902363685</th>\n",
       "      <th>G902363725</th>\n",
       "      <th>G902363825</th>\n",
       "      <th>G902364485</th>\n",
       "      <th>G902373415</th>\n",
       "      <th>G902377395</th>\n",
       "      <th>G902385285</th>\n",
       "      <th>G902387315</th>\n",
       "      <th>G902406265</th>\n",
       "    </tr>\n",
       "  </thead>\n",
       "  <tbody>\n",
       "    <tr>\n",
       "      <th>10317.X00178927</th>\n",
       "      <td>4.0</td>\n",
       "      <td>41.0</td>\n",
       "      <td>1112.0</td>\n",
       "      <td>7.0</td>\n",
       "      <td>1.0</td>\n",
       "      <td>0.0</td>\n",
       "      <td>36674.0</td>\n",
       "      <td>6.0</td>\n",
       "      <td>2.0</td>\n",
       "      <td>1253.0</td>\n",
       "      <td>...</td>\n",
       "      <td>208.0</td>\n",
       "      <td>1818.0</td>\n",
       "      <td>553.0</td>\n",
       "      <td>5290.0</td>\n",
       "      <td>475.0</td>\n",
       "      <td>6.0</td>\n",
       "      <td>22.0</td>\n",
       "      <td>42089.0</td>\n",
       "      <td>434.0</td>\n",
       "      <td>381.0</td>\n",
       "    </tr>\n",
       "    <tr>\n",
       "      <th>10317.X00178928</th>\n",
       "      <td>0.0</td>\n",
       "      <td>13.0</td>\n",
       "      <td>1038.0</td>\n",
       "      <td>6.0</td>\n",
       "      <td>3.0</td>\n",
       "      <td>2.0</td>\n",
       "      <td>135.0</td>\n",
       "      <td>77.0</td>\n",
       "      <td>4.0</td>\n",
       "      <td>1354.0</td>\n",
       "      <td>...</td>\n",
       "      <td>460.0</td>\n",
       "      <td>18745.0</td>\n",
       "      <td>1400.0</td>\n",
       "      <td>5420.0</td>\n",
       "      <td>3657.0</td>\n",
       "      <td>15.0</td>\n",
       "      <td>63.0</td>\n",
       "      <td>61441.0</td>\n",
       "      <td>2582.0</td>\n",
       "      <td>275.0</td>\n",
       "    </tr>\n",
       "    <tr>\n",
       "      <th>10317.X00178930</th>\n",
       "      <td>0.0</td>\n",
       "      <td>372.0</td>\n",
       "      <td>4.0</td>\n",
       "      <td>16.0</td>\n",
       "      <td>0.0</td>\n",
       "      <td>0.0</td>\n",
       "      <td>7311.0</td>\n",
       "      <td>14.0</td>\n",
       "      <td>11.0</td>\n",
       "      <td>5.0</td>\n",
       "      <td>...</td>\n",
       "      <td>71.0</td>\n",
       "      <td>1744.0</td>\n",
       "      <td>630.0</td>\n",
       "      <td>1799.0</td>\n",
       "      <td>253.0</td>\n",
       "      <td>2.0</td>\n",
       "      <td>19.0</td>\n",
       "      <td>11276.0</td>\n",
       "      <td>938.0</td>\n",
       "      <td>3.0</td>\n",
       "    </tr>\n",
       "    <tr>\n",
       "      <th>10317.X00178931</th>\n",
       "      <td>4.0</td>\n",
       "      <td>9.0</td>\n",
       "      <td>1.0</td>\n",
       "      <td>3.0</td>\n",
       "      <td>1.0</td>\n",
       "      <td>0.0</td>\n",
       "      <td>244.0</td>\n",
       "      <td>12.0</td>\n",
       "      <td>30.0</td>\n",
       "      <td>2.0</td>\n",
       "      <td>...</td>\n",
       "      <td>667.0</td>\n",
       "      <td>4113.0</td>\n",
       "      <td>377.0</td>\n",
       "      <td>2520.0</td>\n",
       "      <td>1066.0</td>\n",
       "      <td>394.0</td>\n",
       "      <td>36.0</td>\n",
       "      <td>31265.0</td>\n",
       "      <td>304.0</td>\n",
       "      <td>18.0</td>\n",
       "    </tr>\n",
       "    <tr>\n",
       "      <th>10317.X00178933</th>\n",
       "      <td>0.0</td>\n",
       "      <td>12.0</td>\n",
       "      <td>39.0</td>\n",
       "      <td>15.0</td>\n",
       "      <td>1.0</td>\n",
       "      <td>7.0</td>\n",
       "      <td>0.0</td>\n",
       "      <td>114.0</td>\n",
       "      <td>2.0</td>\n",
       "      <td>43.0</td>\n",
       "      <td>...</td>\n",
       "      <td>538.0</td>\n",
       "      <td>8746.0</td>\n",
       "      <td>903.0</td>\n",
       "      <td>1434.0</td>\n",
       "      <td>1850.0</td>\n",
       "      <td>11.0</td>\n",
       "      <td>59.0</td>\n",
       "      <td>53673.0</td>\n",
       "      <td>2465.0</td>\n",
       "      <td>196.0</td>\n",
       "    </tr>\n",
       "    <tr>\n",
       "      <th>...</th>\n",
       "      <td>...</td>\n",
       "      <td>...</td>\n",
       "      <td>...</td>\n",
       "      <td>...</td>\n",
       "      <td>...</td>\n",
       "      <td>...</td>\n",
       "      <td>...</td>\n",
       "      <td>...</td>\n",
       "      <td>...</td>\n",
       "      <td>...</td>\n",
       "      <td>...</td>\n",
       "      <td>...</td>\n",
       "      <td>...</td>\n",
       "      <td>...</td>\n",
       "      <td>...</td>\n",
       "      <td>...</td>\n",
       "      <td>...</td>\n",
       "      <td>...</td>\n",
       "      <td>...</td>\n",
       "      <td>...</td>\n",
       "      <td>...</td>\n",
       "    </tr>\n",
       "    <tr>\n",
       "      <th>10317.X00215921</th>\n",
       "      <td>11.0</td>\n",
       "      <td>11.0</td>\n",
       "      <td>1990.0</td>\n",
       "      <td>36.0</td>\n",
       "      <td>0.0</td>\n",
       "      <td>0.0</td>\n",
       "      <td>236.0</td>\n",
       "      <td>61.0</td>\n",
       "      <td>3.0</td>\n",
       "      <td>2192.0</td>\n",
       "      <td>...</td>\n",
       "      <td>490.0</td>\n",
       "      <td>1920.0</td>\n",
       "      <td>2188.0</td>\n",
       "      <td>1897.0</td>\n",
       "      <td>2055.0</td>\n",
       "      <td>51.0</td>\n",
       "      <td>41.0</td>\n",
       "      <td>3889.0</td>\n",
       "      <td>5794.0</td>\n",
       "      <td>768.0</td>\n",
       "    </tr>\n",
       "    <tr>\n",
       "      <th>10317.X00215925</th>\n",
       "      <td>30.0</td>\n",
       "      <td>30.0</td>\n",
       "      <td>2765.0</td>\n",
       "      <td>3.0</td>\n",
       "      <td>0.0</td>\n",
       "      <td>1.0</td>\n",
       "      <td>11361.0</td>\n",
       "      <td>5.0</td>\n",
       "      <td>5.0</td>\n",
       "      <td>3634.0</td>\n",
       "      <td>...</td>\n",
       "      <td>153.0</td>\n",
       "      <td>9596.0</td>\n",
       "      <td>602.0</td>\n",
       "      <td>1023.0</td>\n",
       "      <td>1705.0</td>\n",
       "      <td>3.0</td>\n",
       "      <td>31.0</td>\n",
       "      <td>17445.0</td>\n",
       "      <td>634.0</td>\n",
       "      <td>256.0</td>\n",
       "    </tr>\n",
       "    <tr>\n",
       "      <th>10317.X00215926</th>\n",
       "      <td>536.0</td>\n",
       "      <td>0.0</td>\n",
       "      <td>323.0</td>\n",
       "      <td>0.0</td>\n",
       "      <td>1.0</td>\n",
       "      <td>0.0</td>\n",
       "      <td>26.0</td>\n",
       "      <td>4.0</td>\n",
       "      <td>55.0</td>\n",
       "      <td>396.0</td>\n",
       "      <td>...</td>\n",
       "      <td>131.0</td>\n",
       "      <td>1451.0</td>\n",
       "      <td>119.0</td>\n",
       "      <td>1622.0</td>\n",
       "      <td>1591.0</td>\n",
       "      <td>71.0</td>\n",
       "      <td>46.0</td>\n",
       "      <td>2711.0</td>\n",
       "      <td>395.0</td>\n",
       "      <td>137.0</td>\n",
       "    </tr>\n",
       "    <tr>\n",
       "      <th>10317.X00215929</th>\n",
       "      <td>154.0</td>\n",
       "      <td>4333.0</td>\n",
       "      <td>4212.0</td>\n",
       "      <td>6.0</td>\n",
       "      <td>0.0</td>\n",
       "      <td>2.0</td>\n",
       "      <td>2638.0</td>\n",
       "      <td>68.0</td>\n",
       "      <td>7.0</td>\n",
       "      <td>4765.0</td>\n",
       "      <td>...</td>\n",
       "      <td>133.0</td>\n",
       "      <td>3472.0</td>\n",
       "      <td>147.0</td>\n",
       "      <td>1417.0</td>\n",
       "      <td>1084.0</td>\n",
       "      <td>43.0</td>\n",
       "      <td>35.0</td>\n",
       "      <td>11214.0</td>\n",
       "      <td>1566.0</td>\n",
       "      <td>274.0</td>\n",
       "    </tr>\n",
       "    <tr>\n",
       "      <th>10317.X00215939</th>\n",
       "      <td>0.0</td>\n",
       "      <td>215.0</td>\n",
       "      <td>2055.0</td>\n",
       "      <td>2.0</td>\n",
       "      <td>0.0</td>\n",
       "      <td>0.0</td>\n",
       "      <td>956.0</td>\n",
       "      <td>64.0</td>\n",
       "      <td>3.0</td>\n",
       "      <td>2284.0</td>\n",
       "      <td>...</td>\n",
       "      <td>87.0</td>\n",
       "      <td>5689.0</td>\n",
       "      <td>68.0</td>\n",
       "      <td>1016.0</td>\n",
       "      <td>431.0</td>\n",
       "      <td>160.0</td>\n",
       "      <td>17.0</td>\n",
       "      <td>1035.0</td>\n",
       "      <td>1063.0</td>\n",
       "      <td>196.0</td>\n",
       "    </tr>\n",
       "  </tbody>\n",
       "</table>\n",
       "<p>1177 rows × 838 columns</p>\n",
       "</div>"
      ],
      "text/plain": [
       "                 G000006605  G000006865  G000006925  G000007265  G000007325  \\\n",
       "10317.X00178927         4.0        41.0      1112.0         7.0         1.0   \n",
       "10317.X00178928         0.0        13.0      1038.0         6.0         3.0   \n",
       "10317.X00178930         0.0       372.0         4.0        16.0         0.0   \n",
       "10317.X00178931         4.0         9.0         1.0         3.0         1.0   \n",
       "10317.X00178933         0.0        12.0        39.0        15.0         1.0   \n",
       "...                     ...         ...         ...         ...         ...   \n",
       "10317.X00215921        11.0        11.0      1990.0        36.0         0.0   \n",
       "10317.X00215925        30.0        30.0      2765.0         3.0         0.0   \n",
       "10317.X00215926       536.0         0.0       323.0         0.0         1.0   \n",
       "10317.X00215929       154.0      4333.0      4212.0         6.0         0.0   \n",
       "10317.X00215939         0.0       215.0      2055.0         2.0         0.0   \n",
       "\n",
       "                 G000007465  G000007525  G000007785  G000008345  G000008865  \\\n",
       "10317.X00178927         0.0     36674.0         6.0         2.0      1253.0   \n",
       "10317.X00178928         2.0       135.0        77.0         4.0      1354.0   \n",
       "10317.X00178930         0.0      7311.0        14.0        11.0         5.0   \n",
       "10317.X00178931         0.0       244.0        12.0        30.0         2.0   \n",
       "10317.X00178933         7.0         0.0       114.0         2.0        43.0   \n",
       "...                     ...         ...         ...         ...         ...   \n",
       "10317.X00215921         0.0       236.0        61.0         3.0      2192.0   \n",
       "10317.X00215925         1.0     11361.0         5.0         5.0      3634.0   \n",
       "10317.X00215926         0.0        26.0         4.0        55.0       396.0   \n",
       "10317.X00215929         2.0      2638.0        68.0         7.0      4765.0   \n",
       "10317.X00215939         0.0       956.0        64.0         3.0      2284.0   \n",
       "\n",
       "                 ...  G902363595  G902363685  G902363725  G902363825  \\\n",
       "10317.X00178927  ...       208.0      1818.0       553.0      5290.0   \n",
       "10317.X00178928  ...       460.0     18745.0      1400.0      5420.0   \n",
       "10317.X00178930  ...        71.0      1744.0       630.0      1799.0   \n",
       "10317.X00178931  ...       667.0      4113.0       377.0      2520.0   \n",
       "10317.X00178933  ...       538.0      8746.0       903.0      1434.0   \n",
       "...              ...         ...         ...         ...         ...   \n",
       "10317.X00215921  ...       490.0      1920.0      2188.0      1897.0   \n",
       "10317.X00215925  ...       153.0      9596.0       602.0      1023.0   \n",
       "10317.X00215926  ...       131.0      1451.0       119.0      1622.0   \n",
       "10317.X00215929  ...       133.0      3472.0       147.0      1417.0   \n",
       "10317.X00215939  ...        87.0      5689.0        68.0      1016.0   \n",
       "\n",
       "                 G902364485  G902373415  G902377395  G902385285  G902387315  \\\n",
       "10317.X00178927       475.0         6.0        22.0     42089.0       434.0   \n",
       "10317.X00178928      3657.0        15.0        63.0     61441.0      2582.0   \n",
       "10317.X00178930       253.0         2.0        19.0     11276.0       938.0   \n",
       "10317.X00178931      1066.0       394.0        36.0     31265.0       304.0   \n",
       "10317.X00178933      1850.0        11.0        59.0     53673.0      2465.0   \n",
       "...                     ...         ...         ...         ...         ...   \n",
       "10317.X00215921      2055.0        51.0        41.0      3889.0      5794.0   \n",
       "10317.X00215925      1705.0         3.0        31.0     17445.0       634.0   \n",
       "10317.X00215926      1591.0        71.0        46.0      2711.0       395.0   \n",
       "10317.X00215929      1084.0        43.0        35.0     11214.0      1566.0   \n",
       "10317.X00215939       431.0       160.0        17.0      1035.0      1063.0   \n",
       "\n",
       "                 G902406265  \n",
       "10317.X00178927       381.0  \n",
       "10317.X00178928       275.0  \n",
       "10317.X00178930         3.0  \n",
       "10317.X00178931        18.0  \n",
       "10317.X00178933       196.0  \n",
       "...                     ...  \n",
       "10317.X00215921       768.0  \n",
       "10317.X00215925       256.0  \n",
       "10317.X00215926       137.0  \n",
       "10317.X00215929       274.0  \n",
       "10317.X00215939       196.0  \n",
       "\n",
       "[1177 rows x 838 columns]"
      ]
     },
     "execution_count": 120,
     "metadata": {},
     "output_type": "execute_result"
    }
   ],
   "source": [
    "filtered_features_df"
   ]
  }
 ],
 "metadata": {
  "kernelspec": {
   "display_name": "TESTING_qiime2-2023.5",
   "language": "python",
   "name": "testing_2023.5"
  },
  "language_info": {
   "codemirror_mode": {
    "name": "ipython",
    "version": 3
   },
   "file_extension": ".py",
   "mimetype": "text/x-python",
   "name": "python",
   "nbconvert_exporter": "python",
   "pygments_lexer": "ipython3",
   "version": "3.8.16"
  }
 },
 "nbformat": 4,
 "nbformat_minor": 5
}
