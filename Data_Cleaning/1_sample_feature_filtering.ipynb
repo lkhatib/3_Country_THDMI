{
 "cells": [
  {
   "cell_type": "code",
   "execution_count": 1,
   "id": "097c8bbb-e27f-4c71-aa01-28bce53ce55e",
   "metadata": {},
   "outputs": [],
   "source": [
    "import pandas as pd\n",
    "import qiime2 as q2\n",
    "import biom"
   ]
  },
  {
   "cell_type": "markdown",
   "id": "e3a07095-a0e4-46ec-9ed6-9f19313b23bc",
   "metadata": {},
   "source": [
    "## Genome Coverage Filter"
   ]
  },
  {
   "cell_type": "code",
   "execution_count": 2,
   "id": "a6e71a99-1865-4bbd-b354-967d6be1a31d",
   "metadata": {},
   "outputs": [
    {
     "name": "stderr",
     "output_type": "stream",
     "text": [
      "/tmp/ipykernel_245036/299696563.py:1: DtypeWarning: Columns (311,492,532,866) have mixed types. Specify dtype option on import or set low_memory=False.\n",
      "  md = pd.read_csv('../data/64306_64306_analysis_mapping.txt', sep = '\\t', dtype={'#SampleID': str}).set_index('#SampleID')\n"
     ]
    }
   ],
   "source": [
    "md = pd.read_csv('../data/64306_64306_analysis_mapping.txt', sep = '\\t', dtype={'#SampleID': str}).set_index('#SampleID')"
   ]
  },
  {
   "cell_type": "code",
   "execution_count": 3,
   "id": "9d17dda8-2f2d-4fad-a12f-7166e6c46958",
   "metadata": {},
   "outputs": [],
   "source": [
    "#Feature table from Qiita analysis 64306\n",
    "qiita_table = biom.load_table(\"/home/lakhatib/thdmi/data/64306_analysis_Metagenomic_Woltkav014DatabasescratchqpwoltkaWoLr2WoLr2BIOMnonebiom.biom\").to_dataframe().transpose()\n",
    "#import coverages from Micov\n",
    "cov = pd.read_csv('coverages.coverage.tsv', sep = '\\t')"
   ]
  },
  {
   "cell_type": "code",
   "execution_count": 4,
   "id": "b427a07d-0b79-46ea-90a7-81f526c54cb2",
   "metadata": {},
   "outputs": [
    {
     "data": {
      "text/plain": [
       "1446"
      ]
     },
     "execution_count": 4,
     "metadata": {},
     "output_type": "execute_result"
    }
   ],
   "source": [
    "ft = qiita_table.transpose()\n",
    "cov = cov.set_index('genome_id')\n",
    "\n",
    "cov = cov.loc[cov.index.intersection(ft.index)]\n",
    "\n",
    "ft['percent_covered'] = cov['percent_covered']\n",
    "\n",
    "#check how many features will remain with a 15% threshold \n",
    "sum(ft['percent_covered'] > 15)"
   ]
  },
  {
   "cell_type": "code",
   "execution_count": 5,
   "id": "9984a115-7328-48cf-a0fc-75d162b2cacb",
   "metadata": {},
   "outputs": [],
   "source": [
    "#apply filter\n",
    "ft_filtered = ft[ft['percent_covered']  > 15]\n",
    "ft_filtered = ft_filtered.transpose()\n",
    "\n",
    "ft_filtered = ft_filtered.drop(\"percent_covered\")"
   ]
  },
  {
   "cell_type": "markdown",
   "id": "17b7d959-7865-4e7a-93b4-0deb3f04264b",
   "metadata": {},
   "source": [
    "## Sample Filtering"
   ]
  },
  {
   "cell_type": "code",
   "execution_count": 6,
   "id": "8b4861dc-ad23-41bc-8ca2-15158b0c7071",
   "metadata": {},
   "outputs": [
    {
     "name": "stdout",
     "output_type": "stream",
     "text": [
      "Total Samples: 2747\n",
      "Mexico            549\n",
      "US                534\n",
      "Japan             524\n",
      "Spain             481\n",
      "UK                366\n",
      "not applicable    277\n",
      "unknown            10\n",
      "control sample      6\n",
      "Name: thdmi_cohort, dtype: int64\n"
     ]
    }
   ],
   "source": [
    "print(f\"Total Samples: {len(md)}\")\n",
    "print(md['thdmi_cohort'].value_counts())"
   ]
  },
  {
   "cell_type": "code",
   "execution_count": 7,
   "id": "f78fb87e-1449-4562-aa0f-99e3db3d6df1",
   "metadata": {},
   "outputs": [],
   "source": [
    "#filter to valid countries\n",
    "md = md.loc[md['thdmi_cohort'].isin(['Mexico', 'US', 'UK'])]"
   ]
  },
  {
   "cell_type": "code",
   "execution_count": 8,
   "id": "529efef0-870d-4ba9-966e-5023fac6b9aa",
   "metadata": {},
   "outputs": [
    {
     "name": "stdout",
     "output_type": "stream",
     "text": [
      "Total Samples: 1449\n",
      "Mexico    549\n",
      "US        534\n",
      "UK        366\n",
      "Name: thdmi_cohort, dtype: int64\n"
     ]
    }
   ],
   "source": [
    "print(f\"Total Samples: {len(md)}\")\n",
    "print(md['thdmi_cohort'].value_counts())"
   ]
  },
  {
   "cell_type": "code",
   "execution_count": 9,
   "id": "ff7d4972-9069-4860-8e05-9d74d716b566",
   "metadata": {},
   "outputs": [],
   "source": [
    "md = md.loc[md.keep_sample_for_thdmi == 'yes']"
   ]
  },
  {
   "cell_type": "code",
   "execution_count": 10,
   "id": "dd67f909-3747-455f-a834-e16e8f10b099",
   "metadata": {},
   "outputs": [
    {
     "name": "stdout",
     "output_type": "stream",
     "text": [
      "Total Samples: 1291\n",
      "Mexico    507\n",
      "US        442\n",
      "UK        342\n",
      "Name: thdmi_cohort, dtype: int64\n"
     ]
    }
   ],
   "source": [
    "print(f\"Total Samples: {len(md)}\")\n",
    "print(md['thdmi_cohort'].value_counts())"
   ]
  },
  {
   "cell_type": "code",
   "execution_count": 11,
   "id": "3f6f8c7d-f8ca-4dea-be72-fa73d98b1ac2",
   "metadata": {},
   "outputs": [],
   "source": [
    "md = md.loc[md.index.intersection(ft_filtered.index)]"
   ]
  },
  {
   "cell_type": "code",
   "execution_count": 12,
   "id": "365a7506-fea0-4380-9ee4-30f69857ea4d",
   "metadata": {},
   "outputs": [
    {
     "name": "stdout",
     "output_type": "stream",
     "text": [
      "Total Samples: 1291\n",
      "Mexico    507\n",
      "US        442\n",
      "UK        342\n",
      "Name: thdmi_cohort, dtype: int64\n"
     ]
    }
   ],
   "source": [
    "print(f\"Total Samples: {len(md)}\")\n",
    "print(md['thdmi_cohort'].value_counts())"
   ]
  },
  {
   "cell_type": "code",
   "execution_count": 13,
   "id": "bb097f68-a78a-4389-a00a-94dbc066be95",
   "metadata": {},
   "outputs": [],
   "source": [
    "#drop samples with invalid covariates\n",
    "import numpy as np\n",
    "\n",
    "md = md.loc[md['host_age'] != 'not provided']\n",
    "md['host_age'] = md['host_age'].astype('float')\n",
    "md = md.loc[(md['host_age'] >= 18) & (md['host_age'] <= 100)]\n",
    "\n",
    "md['host_body_mass_index'] = md['host_body_mass_index'].replace('not provided', np.nan)\n",
    "\n",
    "md['host_body_mass_index'] = md['host_body_mass_index'].astype(float)\n",
    "\n",
    "md['host_body_mass_index'] = np.where((md['host_body_mass_index'] < 12) | (md['host_body_mass_index'] > 70), np.nan, \n",
    "                                            md['host_body_mass_index']) \n",
    "\n",
    "md['covid_level_of_wellbeing'] = md['covid_level_of_wellbeing'].replace('not provided', np.nan)\n",
    "\n",
    "md['antibiotic_history'] = md['antibiotic_history'].replace('not provided', np.nan)\n",
    "\n",
    "md = md.dropna(subset = ['antibiotic_history', 'covid_level_of_wellbeing', 'host_body_mass_index', 'host_age'])"
   ]
  },
  {
   "cell_type": "code",
   "execution_count": 14,
   "id": "c619fe2a-36be-4b80-994b-23ef6f182e3c",
   "metadata": {},
   "outputs": [
    {
     "name": "stdout",
     "output_type": "stream",
     "text": [
      "Total Samples: 1218\n",
      "Mexico    497\n",
      "US        412\n",
      "UK        309\n",
      "Name: thdmi_cohort, dtype: int64\n"
     ]
    }
   ],
   "source": [
    "print(f\"Total Samples: {len(md)}\")\n",
    "print(md['thdmi_cohort'].value_counts())"
   ]
  },
  {
   "cell_type": "code",
   "execution_count": 15,
   "id": "1ebd9b09-dea4-446d-9b6c-a5e92bca9fcf",
   "metadata": {},
   "outputs": [],
   "source": [
    "#match ft samples to metadata\n",
    "ft_filtered = ft_filtered.loc[ft_filtered.index.intersection(md.index)]"
   ]
  },
  {
   "cell_type": "markdown",
   "id": "a2d1e636-767c-4450-b8cf-604bc9302aa6",
   "metadata": {},
   "source": [
    "## Feature Filtering"
   ]
  },
  {
   "cell_type": "code",
   "execution_count": 16,
   "id": "5e196a93-6264-4d9b-8b3b-f4647b58403e",
   "metadata": {},
   "outputs": [
    {
     "data": {
      "text/plain": [
       "'../data/filtered_feature-table.qza'"
      ]
     },
     "execution_count": 16,
     "metadata": {},
     "output_type": "execute_result"
    }
   ],
   "source": [
    "#save as .qza \n",
    "\n",
    "ft_q2 = q2.Artifact.import_data('FeatureTable[Frequency]', ft_filtered)\n",
    "ft_q2.save('../data/filtered_feature-table.qza')"
   ]
  },
  {
   "cell_type": "code",
   "execution_count": null,
   "id": "cd3e8aac-0fe0-470c-88de-5ef0c0919ff1",
   "metadata": {},
   "outputs": [],
   "source": [
    "# filter against gg2\n",
    "!qiime greengenes2 filter-features --i-feature-table /home/lakhatib/3country/final_scripts/data/filtered_feature-table.qza --i-reference /home/mcdonadt/greengenes2/release/2022.10/2022.10.taxonomy.asv.nwk.qza --o-filtered-feature-table /home/lakhatib/3country/final_scripts/data/gg2_filtered-feature-table.qza"
   ]
  },
  {
   "cell_type": "code",
   "execution_count": null,
   "id": "5e5463fb-7000-438f-8639-6e5eb52c7332",
   "metadata": {},
   "outputs": [],
   "source": [
    "#upload filtered table\n",
    "ft_q2 = q2.Artifact.load('/home/lakhatib/3country/final_scripts/data/gg2_filtered-feature-table.qza')\n",
    "ft = ft_q2.view(pd.DataFrame)"
   ]
  },
  {
   "cell_type": "code",
   "execution_count": null,
   "id": "ba8542ac-e9fe-4c1c-b225-a9846238faa7",
   "metadata": {},
   "outputs": [],
   "source": [
    "print(len(ft.columns))"
   ]
  },
  {
   "cell_type": "code",
   "execution_count": null,
   "id": "30cc3586-fe13-43d5-9671-f185d9f4e56f",
   "metadata": {},
   "outputs": [],
   "source": [
    "# Define the threshold for relative abundance\n",
    "relative_abundance_threshold = 0.000001  # 0.0001%"
   ]
  },
  {
   "cell_type": "code",
   "execution_count": null,
   "id": "73f136d5-7c13-418d-a662-bbd36bf7ac14",
   "metadata": {},
   "outputs": [],
   "source": [
    "#Calculate total abundance for each sample\n",
    "ft_ra = ft.copy()\n",
    "ft_ra['total_abundance'] = ft.sum(axis=1)"
   ]
  },
  {
   "cell_type": "code",
   "execution_count": null,
   "id": "83a64555-c643-492d-ac5e-4d3ddf024594",
   "metadata": {},
   "outputs": [],
   "source": [
    "ft_ra['total_abundance'] = ft_ra['total_abundance'] * relative_abundance_threshold"
   ]
  },
  {
   "cell_type": "code",
   "execution_count": null,
   "id": "dae0f7fa-73b7-41fe-a716-ecc8bbab6090",
   "metadata": {},
   "outputs": [],
   "source": [
    "# Apply the threshold to each feature to check if it meets the relative abundance threshold\n",
    "features_above_threshold = ft_ra.iloc[:, :-1].ge(ft_ra['total_abundance'], axis=0)"
   ]
  },
  {
   "cell_type": "code",
   "execution_count": null,
   "id": "22ee1cf3-3705-4cda-85c1-670d1c3c4f23",
   "metadata": {},
   "outputs": [],
   "source": [
    "# Step 1: Calculate the percentage of samples where each feature meets the threshold\n",
    "feature_prevalence = features_above_threshold.mean(axis=0)"
   ]
  },
  {
   "cell_type": "code",
   "execution_count": null,
   "id": "4e28d1f5-29bb-4f1a-b274-efcbbc845614",
   "metadata": {},
   "outputs": [],
   "source": [
    "# Step 2: Filter out features with prevalence < 10%\n",
    "prevalence_threshold = 0.1  # 10%\n",
    "features_to_keep = feature_prevalence[feature_prevalence >= prevalence_threshold].index"
   ]
  },
  {
   "cell_type": "code",
   "execution_count": null,
   "id": "28ce6628-9c0b-4fa2-a197-2e6dbb8bc6cc",
   "metadata": {},
   "outputs": [],
   "source": [
    "# Filter the original dataframe to keep only these features\n",
    "filtered_features_df = ft_ra[features_to_keep]"
   ]
  },
  {
   "cell_type": "code",
   "execution_count": null,
   "id": "d6a21eb9-87c1-4b07-8bd1-7f5e99b589a6",
   "metadata": {},
   "outputs": [],
   "source": [
    "filtered_features_df = filtered_features_df.loc[filtered_features_df.sum(axis=1) >= 1000000]"
   ]
  },
  {
   "cell_type": "code",
   "execution_count": null,
   "id": "b6b063da-0387-4631-b8eb-58b9f3adf84c",
   "metadata": {},
   "outputs": [],
   "source": [
    "#make sure all samples are above 1000000\n",
    "filtered_features_df.sum(axis=1).min()"
   ]
  },
  {
   "cell_type": "code",
   "execution_count": null,
   "id": "cabb8b31-d1b5-4536-b1ec-762bb86ba69d",
   "metadata": {},
   "outputs": [],
   "source": [
    "md = md.loc[md.index.intersection(filtered_features_df.index)]"
   ]
  },
  {
   "cell_type": "code",
   "execution_count": null,
   "id": "e8f74e6e-bc40-424d-8cf4-705444e9e43d",
   "metadata": {},
   "outputs": [],
   "source": [
    "print(f\"Total Samples: {len(md)}\")\n",
    "print(md['thdmi_cohort'].value_counts())"
   ]
  },
  {
   "cell_type": "code",
   "execution_count": null,
   "id": "9004c18b-96be-4c19-8248-895a71af2a1b",
   "metadata": {},
   "outputs": [],
   "source": [
    "md = md.rename_axis('#SampleID')"
   ]
  },
  {
   "cell_type": "code",
   "execution_count": null,
   "id": "f1664b90-e449-4dcc-88f4-82c4a70d3762",
   "metadata": {},
   "outputs": [],
   "source": [
    "md.to_csv('../data/subsetted_md.tsv', sep = '\\t')"
   ]
  },
  {
   "cell_type": "code",
   "execution_count": null,
   "id": "abf5457f-73de-4d87-a759-e1a18ac80c17",
   "metadata": {},
   "outputs": [],
   "source": [
    "filtered_features_df = filtered_features_df.loc[filtered_features_df.index.intersection(md.index)]"
   ]
  },
  {
   "cell_type": "code",
   "execution_count": null,
   "id": "c429ac04-f03e-4667-9ea7-cdc871afc0a9",
   "metadata": {},
   "outputs": [],
   "source": [
    "filtered_features_df.to_csv('../data/filtered_ft.tsv', sep = '\\t')"
   ]
  },
  {
   "cell_type": "code",
   "execution_count": null,
   "id": "b1a85b08-8546-48c5-a5b4-7a12fef29c7d",
   "metadata": {},
   "outputs": [],
   "source": [
    "filtered_features_q2 = q2.Artifact.import_data('FeatureTable[Frequency]', filtered_features_df)"
   ]
  },
  {
   "cell_type": "code",
   "execution_count": null,
   "id": "31dc6542-5b77-49ef-bb98-00b4d8e8d078",
   "metadata": {},
   "outputs": [],
   "source": [
    "filtered_features_q2.save('../data/filtered_ft.qza')"
   ]
  },
  {
   "cell_type": "code",
   "execution_count": null,
   "id": "5d4c1a08-b758-4266-9399-fa571bdec8d5",
   "metadata": {},
   "outputs": [],
   "source": []
  }
 ],
 "metadata": {
  "kernelspec": {
   "display_name": "TESTING_qiime2-2023.5",
   "language": "python",
   "name": "testing_2023.5"
  },
  "language_info": {
   "codemirror_mode": {
    "name": "ipython",
    "version": 3
   },
   "file_extension": ".py",
   "mimetype": "text/x-python",
   "name": "python",
   "nbconvert_exporter": "python",
   "pygments_lexer": "ipython3",
   "version": "3.8.16"
  }
 },
 "nbformat": 4,
 "nbformat_minor": 5
}
