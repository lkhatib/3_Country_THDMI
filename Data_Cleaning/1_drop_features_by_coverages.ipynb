{
 "cells": [
  {
   "cell_type": "code",
   "execution_count": 69,
   "id": "08871eba-009f-4c12-8c18-4da0e0280ee0",
   "metadata": {},
   "outputs": [],
   "source": [
    "import pandas as pd\n",
    "import qiime2 as q2\n",
    "import biom"
   ]
  },
  {
   "cell_type": "code",
   "execution_count": 70,
   "id": "dd12dccf-8941-4369-97e3-df7ca6cc3aad",
   "metadata": {},
   "outputs": [],
   "source": [
    "#Feature table from Qiita analysis 64306\n",
    "qiita_table = biom.load_table(\"/home/lakhatib/thdmi/data/64306_analysis_Metagenomic_Woltkav014DatabasescratchqpwoltkaWoLr2WoLr2BIOMnonebiom.biom\").to_dataframe().transpose()"
   ]
  },
  {
   "cell_type": "code",
   "execution_count": 71,
   "id": "57736c20-3164-4b68-ad1e-69a3db7de3ce",
   "metadata": {},
   "outputs": [],
   "source": [
    "#import coverages\n",
    "cov = pd.read_csv('coverages.coverage.tsv', sep = '\\t')"
   ]
  },
  {
   "cell_type": "code",
   "execution_count": 72,
   "id": "0d252bac-6c73-4df9-868e-cfe3cb19173e",
   "metadata": {},
   "outputs": [
    {
     "data": {
      "text/html": [
       "<div>\n",
       "<style scoped>\n",
       "    .dataframe tbody tr th:only-of-type {\n",
       "        vertical-align: middle;\n",
       "    }\n",
       "\n",
       "    .dataframe tbody tr th {\n",
       "        vertical-align: top;\n",
       "    }\n",
       "\n",
       "    .dataframe thead th {\n",
       "        text-align: right;\n",
       "    }\n",
       "</style>\n",
       "<table border=\"1\" class=\"dataframe\">\n",
       "  <thead>\n",
       "    <tr style=\"text-align: right;\">\n",
       "      <th></th>\n",
       "      <th>genome_id</th>\n",
       "      <th>covered</th>\n",
       "      <th>length</th>\n",
       "      <th>percent_covered</th>\n",
       "    </tr>\n",
       "  </thead>\n",
       "  <tbody>\n",
       "    <tr>\n",
       "      <th>0</th>\n",
       "      <td>G000005825</td>\n",
       "      <td>16633</td>\n",
       "      <td>4249288</td>\n",
       "      <td>0.391430</td>\n",
       "    </tr>\n",
       "    <tr>\n",
       "      <th>1</th>\n",
       "      <td>G000006605</td>\n",
       "      <td>1956679</td>\n",
       "      <td>2476842</td>\n",
       "      <td>78.998943</td>\n",
       "    </tr>\n",
       "    <tr>\n",
       "      <th>2</th>\n",
       "      <td>G000006725</td>\n",
       "      <td>21404</td>\n",
       "      <td>2731790</td>\n",
       "      <td>0.783516</td>\n",
       "    </tr>\n",
       "    <tr>\n",
       "      <th>3</th>\n",
       "      <td>G000006745</td>\n",
       "      <td>287997</td>\n",
       "      <td>4033484</td>\n",
       "      <td>7.140155</td>\n",
       "    </tr>\n",
       "    <tr>\n",
       "      <th>4</th>\n",
       "      <td>G000006785</td>\n",
       "      <td>242013</td>\n",
       "      <td>1852433</td>\n",
       "      <td>13.064602</td>\n",
       "    </tr>\n",
       "    <tr>\n",
       "      <th>...</th>\n",
       "      <td>...</td>\n",
       "      <td>...</td>\n",
       "      <td>...</td>\n",
       "      <td>...</td>\n",
       "    </tr>\n",
       "    <tr>\n",
       "      <th>12626</th>\n",
       "      <td>G902826025</td>\n",
       "      <td>554</td>\n",
       "      <td>6877316</td>\n",
       "      <td>0.008055</td>\n",
       "    </tr>\n",
       "    <tr>\n",
       "      <th>12627</th>\n",
       "      <td>G902826465</td>\n",
       "      <td>544</td>\n",
       "      <td>4949125</td>\n",
       "      <td>0.010992</td>\n",
       "    </tr>\n",
       "    <tr>\n",
       "      <th>12628</th>\n",
       "      <td>G902826605</td>\n",
       "      <td>244</td>\n",
       "      <td>4489169</td>\n",
       "      <td>0.005435</td>\n",
       "    </tr>\n",
       "    <tr>\n",
       "      <th>12629</th>\n",
       "      <td>G902827015</td>\n",
       "      <td>8874</td>\n",
       "      <td>2492225</td>\n",
       "      <td>0.356067</td>\n",
       "    </tr>\n",
       "    <tr>\n",
       "      <th>12630</th>\n",
       "      <td>G902827055</td>\n",
       "      <td>218</td>\n",
       "      <td>2266725</td>\n",
       "      <td>0.009617</td>\n",
       "    </tr>\n",
       "  </tbody>\n",
       "</table>\n",
       "<p>12631 rows × 4 columns</p>\n",
       "</div>"
      ],
      "text/plain": [
       "        genome_id  covered   length  percent_covered\n",
       "0      G000005825    16633  4249288         0.391430\n",
       "1      G000006605  1956679  2476842        78.998943\n",
       "2      G000006725    21404  2731790         0.783516\n",
       "3      G000006745   287997  4033484         7.140155\n",
       "4      G000006785   242013  1852433        13.064602\n",
       "...           ...      ...      ...              ...\n",
       "12626  G902826025      554  6877316         0.008055\n",
       "12627  G902826465      544  4949125         0.010992\n",
       "12628  G902826605      244  4489169         0.005435\n",
       "12629  G902827015     8874  2492225         0.356067\n",
       "12630  G902827055      218  2266725         0.009617\n",
       "\n",
       "[12631 rows x 4 columns]"
      ]
     },
     "execution_count": 72,
     "metadata": {},
     "output_type": "execute_result"
    }
   ],
   "source": [
    "cov"
   ]
  },
  {
   "cell_type": "code",
   "execution_count": 73,
   "id": "331c4c53-4d46-402c-8254-4faf6d4f8845",
   "metadata": {},
   "outputs": [],
   "source": [
    "ft = qiita_table.transpose()"
   ]
  },
  {
   "cell_type": "code",
   "execution_count": 74,
   "id": "90142882-487c-4ce6-84f7-e13707589325",
   "metadata": {},
   "outputs": [],
   "source": [
    "cov = cov.set_index('genome_id')"
   ]
  },
  {
   "cell_type": "code",
   "execution_count": 75,
   "id": "0431d710-2a03-42e8-b4f5-d6c695f3840d",
   "metadata": {},
   "outputs": [],
   "source": [
    "cov = cov.loc[cov.index.intersection(ft.index)]"
   ]
  },
  {
   "cell_type": "code",
   "execution_count": 76,
   "id": "9a5ef8a4-3a31-45ff-a8b4-54bba1c5a093",
   "metadata": {},
   "outputs": [],
   "source": [
    "ft['percent_covered'] = cov['percent_covered']"
   ]
  },
  {
   "cell_type": "code",
   "execution_count": 77,
   "id": "ed0d85e0-aafc-459b-9931-5a986103874a",
   "metadata": {},
   "outputs": [
    {
     "data": {
      "text/plain": [
       "1337"
      ]
     },
     "execution_count": 77,
     "metadata": {},
     "output_type": "execute_result"
    }
   ],
   "source": [
    "#check how many features will drop with a 25% threshold \n",
    "sum(ft['percent_covered'] > 25)"
   ]
  },
  {
   "cell_type": "code",
   "execution_count": 78,
   "id": "3036ac1a-e151-4ed2-a11b-2030d1357df8",
   "metadata": {},
   "outputs": [],
   "source": [
    "ft_filtered = ft[ft['percent_covered']  > 25]"
   ]
  },
  {
   "cell_type": "code",
   "execution_count": 79,
   "id": "3e50b75e-a809-4e07-af60-6decfa76c1c4",
   "metadata": {},
   "outputs": [],
   "source": [
    "ft_filtered = ft_filtered.transpose()"
   ]
  },
  {
   "cell_type": "code",
   "execution_count": 80,
   "id": "7eaae5d9-84c1-4947-8985-a528649ad71f",
   "metadata": {},
   "outputs": [],
   "source": [
    "ft_filtered = ft_filtered.drop(\"percent_covered\")"
   ]
  },
  {
   "cell_type": "code",
   "execution_count": 81,
   "id": "5d50cf04-034e-4b8f-91b9-8bbb161c2aa1",
   "metadata": {},
   "outputs": [],
   "source": [
    "ft_filtered.to_csv('zebra_feature-table.tsv', sep = '\\t')"
   ]
  }
 ],
 "metadata": {
  "kernelspec": {
   "display_name": "TESTING_qiime2-2023.5",
   "language": "python",
   "name": "testing_2023.5"
  },
  "language_info": {
   "codemirror_mode": {
    "name": "ipython",
    "version": 3
   },
   "file_extension": ".py",
   "mimetype": "text/x-python",
   "name": "python",
   "nbconvert_exporter": "python",
   "pygments_lexer": "ipython3",
   "version": "3.8.16"
  }
 },
 "nbformat": 4,
 "nbformat_minor": 5
}
