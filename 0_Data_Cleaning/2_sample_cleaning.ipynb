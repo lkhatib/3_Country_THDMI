{
 "cells": [
  {
   "cell_type": "code",
   "execution_count": 1,
   "id": "097c8bbb-e27f-4c71-aa01-28bce53ce55e",
   "metadata": {},
   "outputs": [],
   "source": [
    "import pandas as pd\n",
    "import qiime2 as q2"
   ]
  },
  {
   "cell_type": "code",
   "execution_count": 2,
   "id": "a6e71a99-1865-4bbd-b354-967d6be1a31d",
   "metadata": {},
   "outputs": [
    {
     "name": "stderr",
     "output_type": "stream",
     "text": [
      "/tmp/ipykernel_252932/1821422975.py:1: DtypeWarning: Columns (311,492,532,866) have mixed types. Specify dtype option on import or set low_memory=False.\n",
      "  md = pd.read_csv('/home/lakhatib/thdmi/data_cleaning/1_genome_coverage/thdmi_metadata.tsv', sep = '\\t', dtype={'#SampleID': str}).set_index('#SampleID')\n"
     ]
    }
   ],
   "source": [
    "md = pd.read_csv('/home/lakhatib/thdmi/data_cleaning/1_genome_coverage/thdmi_metadata.tsv', sep = '\\t', dtype={'#SampleID': str}).set_index('#SampleID')"
   ]
  },
  {
   "cell_type": "code",
   "execution_count": null,
   "id": "58639ddc-d160-42a2-9633-5c0464c1f3d5",
   "metadata": {},
   "outputs": [],
   "source": [
    "ft = pd.read_csv('/home/lakhatib/thdmi/data/zebra_feature-table.tsv', sep = '\\t', dtype={'Unnamed: 0': str}).set_index('Unnamed: 0')"
   ]
  },
  {
   "cell_type": "code",
   "execution_count": null,
   "id": "8b4861dc-ad23-41bc-8ca2-15158b0c7071",
   "metadata": {},
   "outputs": [
    {
     "name": "stdout",
     "output_type": "stream",
     "text": [
      "Total Samples: 2747\n",
      "Mexico            549\n",
      "US                534\n",
      "Japan             524\n",
      "Spain             481\n",
      "UK                366\n",
      "not applicable    277\n",
      "unknown            10\n",
      "control sample      6\n",
      "Name: thdmi_cohort, dtype: int64\n"
     ]
    }
   ],
   "source": [
    "print(f\"Total Samples: {len(md)}\")\n",
    "print(md['thdmi_cohort'].value_counts())"
   ]
  },
  {
   "cell_type": "code",
   "execution_count": null,
   "id": "f78fb87e-1449-4562-aa0f-99e3db3d6df1",
   "metadata": {},
   "outputs": [],
   "source": [
    "#filter to valid countries\n",
    "md = md.loc[md['thdmi_cohort'].isin(['Mexico', 'US', 'UK'])]"
   ]
  },
  {
   "cell_type": "code",
   "execution_count": null,
   "id": "529efef0-870d-4ba9-966e-5023fac6b9aa",
   "metadata": {},
   "outputs": [
    {
     "name": "stdout",
     "output_type": "stream",
     "text": [
      "Total Samples: 1449\n",
      "Mexico    549\n",
      "US        534\n",
      "UK        366\n",
      "Name: thdmi_cohort, dtype: int64\n"
     ]
    }
   ],
   "source": [
    "print(f\"Total Samples: {len(md)}\")\n",
    "print(md['thdmi_cohort'].value_counts())"
   ]
  },
  {
   "cell_type": "code",
   "execution_count": 73,
   "id": "ff7d4972-9069-4860-8e05-9d74d716b566",
   "metadata": {},
   "outputs": [],
   "source": [
    "md = md.loc[md.keep_sample_for_thdmi == 'yes']"
   ]
  },
  {
   "cell_type": "code",
   "execution_count": 74,
   "id": "dd67f909-3747-455f-a834-e16e8f10b099",
   "metadata": {},
   "outputs": [
    {
     "name": "stdout",
     "output_type": "stream",
     "text": [
      "Total Samples: 1291\n",
      "Mexico    507\n",
      "US        442\n",
      "UK        342\n",
      "Name: thdmi_cohort, dtype: int64\n"
     ]
    }
   ],
   "source": [
    "print(f\"Total Samples: {len(md)}\")\n",
    "print(md['thdmi_cohort'].value_counts())"
   ]
  },
  {
   "cell_type": "code",
   "execution_count": 75,
   "id": "3f6f8c7d-f8ca-4dea-be72-fa73d98b1ac2",
   "metadata": {},
   "outputs": [],
   "source": [
    "md = md.loc[md.index.intersection(ft.index)]"
   ]
  },
  {
   "cell_type": "code",
   "execution_count": 76,
   "id": "365a7506-fea0-4380-9ee4-30f69857ea4d",
   "metadata": {},
   "outputs": [
    {
     "name": "stdout",
     "output_type": "stream",
     "text": [
      "Total Samples: 1291\n",
      "Mexico    507\n",
      "US        442\n",
      "UK        342\n",
      "Name: thdmi_cohort, dtype: int64\n"
     ]
    }
   ],
   "source": [
    "print(f\"Total Samples: {len(md)}\")\n",
    "print(md['thdmi_cohort'].value_counts())"
   ]
  },
  {
   "cell_type": "code",
   "execution_count": 77,
   "id": "bb097f68-a78a-4389-a00a-94dbc066be95",
   "metadata": {},
   "outputs": [],
   "source": [
    "#drop samples with invalid covariates\n",
    "import numpy as np\n",
    "md['host_body_mass_index'] = md['host_body_mass_index'].replace('not provided', np.nan)\n",
    "\n",
    "md['host_body_mass_index'] = md['host_body_mass_index'].astype(float)\n",
    "\n",
    "md['host_body_mass_index'] = np.where((md['host_body_mass_index'] < 12) | (md['host_body_mass_index'] > 70), np.nan, \n",
    "                                            md['host_body_mass_index']) \n",
    "\n",
    "md['covid_level_of_wellbeing'] = md['covid_level_of_wellbeing'].replace('not provided', np.nan)\n",
    "\n",
    "md['antibiotic_history'] = md['antibiotic_history'].replace('not provided', np.nan)\n",
    "\n",
    "md = md.dropna(subset = ['host_body_mass_index', 'antibiotic_history', 'covid_level_of_wellbeing'])"
   ]
  },
  {
   "cell_type": "code",
   "execution_count": 78,
   "id": "c619fe2a-36be-4b80-994b-23ef6f182e3c",
   "metadata": {},
   "outputs": [
    {
     "name": "stdout",
     "output_type": "stream",
     "text": [
      "Total Samples: 1218\n",
      "Mexico    497\n",
      "US        412\n",
      "UK        309\n",
      "Name: thdmi_cohort, dtype: int64\n"
     ]
    }
   ],
   "source": [
    "print(f\"Total Samples: {len(md)}\")\n",
    "print(md['thdmi_cohort'].value_counts())"
   ]
  },
  {
   "cell_type": "code",
   "execution_count": 79,
   "id": "3b312b4a-fd69-47ad-9811-d01de40bd314",
   "metadata": {},
   "outputs": [],
   "source": [
    "import qiime2 as q2 "
   ]
  },
  {
   "cell_type": "code",
   "execution_count": 80,
   "id": "5e196a93-6264-4d9b-8b3b-f4647b58403e",
   "metadata": {},
   "outputs": [],
   "source": [
    "ft_q2 = q2.Artifact.import_data('FeatureTable[Frequency]', ft)"
   ]
  },
  {
   "cell_type": "code",
   "execution_count": 81,
   "id": "25ca9122-4ab9-4f00-9b5e-c1fbcdf21ec6",
   "metadata": {},
   "outputs": [
    {
     "data": {
      "text/plain": [
       "'zebra_feature-table.qza'"
      ]
     },
     "execution_count": 81,
     "metadata": {},
     "output_type": "execute_result"
    }
   ],
   "source": [
    "ft_q2.save('zebra_feature-table.qza')"
   ]
  },
  {
   "cell_type": "code",
   "execution_count": 49,
   "id": "cd3e8aac-0fe0-470c-88de-5ef0c0919ff1",
   "metadata": {},
   "outputs": [],
   "source": [
    "!qiime greengenes2 filter-features \\\n",
    "    --i-feature-table /projects/thdmi/5country/pangenome_filtered/data/zebra_feature-table.qza \\\n",
    "    --i-reference /home/mcdonadt/greengenes2/release/2022.10/2022.10.taxonomy.asv.nwk.qza \\\n",
    "    --o-filtered-feature-table /projects/thdmi/5country/pangenome_filtered/data/gg2_zebra_feature-table.qza"
   ]
  },
  {
   "cell_type": "code",
   "execution_count": 82,
   "id": "5e5463fb-7000-438f-8639-6e5eb52c7332",
   "metadata": {},
   "outputs": [],
   "source": [
    "ft_q2 = q2.Artifact.load('/projects/thdmi/5country/pangenome_filtered/data/gg2_zebra_feature-table.qza')\n",
    "ft = ft_q2.view(pd.DataFrame)"
   ]
  },
  {
   "cell_type": "code",
   "execution_count": 83,
   "id": "dc16172d-f230-486c-99c1-c6d90e16c305",
   "metadata": {
    "tags": []
   },
   "outputs": [],
   "source": [
    "#Calculate total abundance for each sample\n",
    "ft_ra = ft.copy()\n",
    "ft_ra['total_abundance'] = ft.sum(axis=1)"
   ]
  },
  {
   "cell_type": "code",
   "execution_count": 84,
   "id": "30cc3586-fe13-43d5-9671-f185d9f4e56f",
   "metadata": {},
   "outputs": [],
   "source": [
    "# Define the threshold for relative abundance\n",
    "relative_abundance_threshold = 0.000001  # 0.0001%"
   ]
  },
  {
   "cell_type": "code",
   "execution_count": 85,
   "id": "83a64555-c643-492d-ac5e-4d3ddf024594",
   "metadata": {},
   "outputs": [],
   "source": [
    "ft_ra['total_abundance'] = ft_ra['total_abundance'] * relative_abundance_threshold"
   ]
  },
  {
   "cell_type": "code",
   "execution_count": 86,
   "id": "dae0f7fa-73b7-41fe-a716-ecc8bbab6090",
   "metadata": {},
   "outputs": [],
   "source": [
    "# Apply the threshold to each feature to check if it meets the relative abundance threshold\n",
    "features_above_threshold = ft_ra.iloc[:, :-1].ge(ft_ra['total_abundance'], axis=0)"
   ]
  },
  {
   "cell_type": "code",
   "execution_count": 87,
   "id": "22ee1cf3-3705-4cda-85c1-670d1c3c4f23",
   "metadata": {},
   "outputs": [],
   "source": [
    "# Step 1: Calculate the percentage of samples where each feature meets the threshold\n",
    "feature_prevalence = features_above_threshold.mean(axis=0)"
   ]
  },
  {
   "cell_type": "code",
   "execution_count": 88,
   "id": "4e28d1f5-29bb-4f1a-b274-efcbbc845614",
   "metadata": {},
   "outputs": [],
   "source": [
    "# Step 2: Filter out features with prevalence < 10%\n",
    "prevalence_threshold = 0.1  # 10%\n",
    "features_to_keep = feature_prevalence[feature_prevalence >= prevalence_threshold].index"
   ]
  },
  {
   "cell_type": "code",
   "execution_count": 89,
   "id": "28ce6628-9c0b-4fa2-a197-2e6dbb8bc6cc",
   "metadata": {},
   "outputs": [],
   "source": [
    "# Filter the original dataframe to keep only these features\n",
    "filtered_features_df = ft_ra[features_to_keep]"
   ]
  },
  {
   "cell_type": "code",
   "execution_count": 90,
   "id": "b6b063da-0387-4631-b8eb-58b9f3adf84c",
   "metadata": {},
   "outputs": [
    {
     "data": {
      "text/plain": [
       "24.0"
      ]
     },
     "execution_count": 90,
     "metadata": {},
     "output_type": "execute_result"
    }
   ],
   "source": [
    "#make sure all samples are above 1000000\n",
    "filtered_features_df.sum(axis=1).min()"
   ]
  },
  {
   "cell_type": "code",
   "execution_count": 91,
   "id": "d6a21eb9-87c1-4b07-8bd1-7f5e99b589a6",
   "metadata": {},
   "outputs": [],
   "source": [
    "filtered_features_df = filtered_features_df.loc[filtered_features_df.sum(axis=1) >= 1000000]"
   ]
  },
  {
   "cell_type": "code",
   "execution_count": 92,
   "id": "cabb8b31-d1b5-4536-b1ec-762bb86ba69d",
   "metadata": {},
   "outputs": [],
   "source": [
    "md = md.loc[md.index.intersection(filtered_features_df.index)]"
   ]
  },
  {
   "cell_type": "code",
   "execution_count": 93,
   "id": "e8f74e6e-bc40-424d-8cf4-705444e9e43d",
   "metadata": {},
   "outputs": [
    {
     "name": "stdout",
     "output_type": "stream",
     "text": [
      "Total Samples: 1177\n",
      "Mexico    460\n",
      "US        410\n",
      "UK        307\n",
      "Name: thdmi_cohort, dtype: int64\n"
     ]
    }
   ],
   "source": [
    "print(f\"Total Samples: {len(md)}\")\n",
    "print(md['thdmi_cohort'].value_counts())"
   ]
  },
  {
   "cell_type": "code",
   "execution_count": 94,
   "id": "9004c18b-96be-4c19-8248-895a71af2a1b",
   "metadata": {},
   "outputs": [],
   "source": [
    "md = md.rename_axis('#SampleID')"
   ]
  },
  {
   "cell_type": "code",
   "execution_count": 95,
   "id": "f1664b90-e449-4dcc-88f4-82c4a70d3762",
   "metadata": {},
   "outputs": [],
   "source": [
    "md.to_csv('subsetted_md.tsv', sep = '\\t')"
   ]
  },
  {
   "cell_type": "code",
   "execution_count": 96,
   "id": "abf5457f-73de-4d87-a759-e1a18ac80c17",
   "metadata": {},
   "outputs": [],
   "source": [
    "filtered_features_df = filtered_features_df.loc[filtered_features_df.index.intersection(md.index)]"
   ]
  },
  {
   "cell_type": "code",
   "execution_count": 97,
   "id": "c429ac04-f03e-4667-9ea7-cdc871afc0a9",
   "metadata": {},
   "outputs": [],
   "source": [
    "filtered_features_df.to_csv('filtered_ft.tsv', sep = '\\t')"
   ]
  },
  {
   "cell_type": "code",
   "execution_count": 98,
   "id": "b1a85b08-8546-48c5-a5b4-7a12fef29c7d",
   "metadata": {},
   "outputs": [],
   "source": [
    "filtered_features_q2 = q2.Artifact.import_data('FeatureTable[Frequency]', filtered_features_df)"
   ]
  },
  {
   "cell_type": "code",
   "execution_count": 99,
   "id": "31dc6542-5b77-49ef-bb98-00b4d8e8d078",
   "metadata": {},
   "outputs": [
    {
     "data": {
      "text/plain": [
       "'filtered_ft.qza'"
      ]
     },
     "execution_count": 99,
     "metadata": {},
     "output_type": "execute_result"
    }
   ],
   "source": [
    "filtered_features_q2.save('filtered_ft.qza')"
   ]
  },
  {
   "cell_type": "code",
   "execution_count": null,
   "id": "152cea77-059b-485f-b3af-955de00100e8",
   "metadata": {},
   "outputs": [],
   "source": []
  }
 ],
 "metadata": {
  "kernelspec": {
   "display_name": "TESTING_qiime2-2023.5",
   "language": "python",
   "name": "testing_2023.5"
  },
  "language_info": {
   "codemirror_mode": {
    "name": "ipython",
    "version": 3
   },
   "file_extension": ".py",
   "mimetype": "text/x-python",
   "name": "python",
   "nbconvert_exporter": "python",
   "pygments_lexer": "ipython3",
   "version": "3.8.16"
  }
 },
 "nbformat": 4,
 "nbformat_minor": 5
}
