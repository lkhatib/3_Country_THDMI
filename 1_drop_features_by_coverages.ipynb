{
 "cells": [
  {
   "cell_type": "code",
   "execution_count": 1,
   "id": "08871eba-009f-4c12-8c18-4da0e0280ee0",
   "metadata": {},
   "outputs": [],
   "source": [
    "import pandas as pd\n",
    "import qiime2 as q2\n",
    "import biom"
   ]
  },
  {
   "cell_type": "code",
   "execution_count": 2,
   "id": "dd12dccf-8941-4369-97e3-df7ca6cc3aad",
   "metadata": {},
   "outputs": [],
   "source": [
    "#Feature table from Qiita analysis 64306\n",
    "qiita_table = biom.load_table(\"/home/lakhatib/thdmi/data/64306_analysis_Metagenomic_Woltkav014DatabasescratchqpwoltkaWoLr2WoLr2BIOMnonebiom.biom\").to_dataframe().transpose()"
   ]
  },
  {
   "cell_type": "code",
   "execution_count": 3,
   "id": "57736c20-3164-4b68-ad1e-69a3db7de3ce",
   "metadata": {},
   "outputs": [],
   "source": [
    "#import coverages\n",
    "cov = pd.read_csv('coverages.coverage.tsv', sep = '\\t')"
   ]
  },
  {
   "cell_type": "code",
   "execution_count": 4,
   "id": "0d252bac-6c73-4df9-868e-cfe3cb19173e",
   "metadata": {},
   "outputs": [
    {
     "data": {
      "text/html": [
       "<div>\n",
       "<style scoped>\n",
       "    .dataframe tbody tr th:only-of-type {\n",
       "        vertical-align: middle;\n",
       "    }\n",
       "\n",
       "    .dataframe tbody tr th {\n",
       "        vertical-align: top;\n",
       "    }\n",
       "\n",
       "    .dataframe thead th {\n",
       "        text-align: right;\n",
       "    }\n",
       "</style>\n",
       "<table border=\"1\" class=\"dataframe\">\n",
       "  <thead>\n",
       "    <tr style=\"text-align: right;\">\n",
       "      <th></th>\n",
       "      <th>genome_id</th>\n",
       "      <th>covered</th>\n",
       "      <th>length</th>\n",
       "      <th>percent_covered</th>\n",
       "    </tr>\n",
       "  </thead>\n",
       "  <tbody>\n",
       "    <tr>\n",
       "      <th>0</th>\n",
       "      <td>G000005825</td>\n",
       "      <td>22235</td>\n",
       "      <td>4249288</td>\n",
       "      <td>0.523264</td>\n",
       "    </tr>\n",
       "    <tr>\n",
       "      <th>1</th>\n",
       "      <td>G000006605</td>\n",
       "      <td>2041575</td>\n",
       "      <td>2476842</td>\n",
       "      <td>82.426533</td>\n",
       "    </tr>\n",
       "    <tr>\n",
       "      <th>2</th>\n",
       "      <td>G000006725</td>\n",
       "      <td>27319</td>\n",
       "      <td>2731790</td>\n",
       "      <td>1.000040</td>\n",
       "    </tr>\n",
       "    <tr>\n",
       "      <th>3</th>\n",
       "      <td>G000006745</td>\n",
       "      <td>292434</td>\n",
       "      <td>4033484</td>\n",
       "      <td>7.250159</td>\n",
       "    </tr>\n",
       "    <tr>\n",
       "      <th>4</th>\n",
       "      <td>G000006785</td>\n",
       "      <td>304688</td>\n",
       "      <td>1852433</td>\n",
       "      <td>16.447990</td>\n",
       "    </tr>\n",
       "    <tr>\n",
       "      <th>...</th>\n",
       "      <td>...</td>\n",
       "      <td>...</td>\n",
       "      <td>...</td>\n",
       "      <td>...</td>\n",
       "    </tr>\n",
       "    <tr>\n",
       "      <th>12827</th>\n",
       "      <td>G902826025</td>\n",
       "      <td>3024</td>\n",
       "      <td>6877316</td>\n",
       "      <td>0.043971</td>\n",
       "    </tr>\n",
       "    <tr>\n",
       "      <th>12828</th>\n",
       "      <td>G902826465</td>\n",
       "      <td>1572</td>\n",
       "      <td>4949125</td>\n",
       "      <td>0.031763</td>\n",
       "    </tr>\n",
       "    <tr>\n",
       "      <th>12829</th>\n",
       "      <td>G902826605</td>\n",
       "      <td>295</td>\n",
       "      <td>4489169</td>\n",
       "      <td>0.006571</td>\n",
       "    </tr>\n",
       "    <tr>\n",
       "      <th>12830</th>\n",
       "      <td>G902827015</td>\n",
       "      <td>9326</td>\n",
       "      <td>2492225</td>\n",
       "      <td>0.374204</td>\n",
       "    </tr>\n",
       "    <tr>\n",
       "      <th>12831</th>\n",
       "      <td>G902827055</td>\n",
       "      <td>218</td>\n",
       "      <td>2266725</td>\n",
       "      <td>0.009617</td>\n",
       "    </tr>\n",
       "  </tbody>\n",
       "</table>\n",
       "<p>12832 rows × 4 columns</p>\n",
       "</div>"
      ],
      "text/plain": [
       "        genome_id  covered   length  percent_covered\n",
       "0      G000005825    22235  4249288         0.523264\n",
       "1      G000006605  2041575  2476842        82.426533\n",
       "2      G000006725    27319  2731790         1.000040\n",
       "3      G000006745   292434  4033484         7.250159\n",
       "4      G000006785   304688  1852433        16.447990\n",
       "...           ...      ...      ...              ...\n",
       "12827  G902826025     3024  6877316         0.043971\n",
       "12828  G902826465     1572  4949125         0.031763\n",
       "12829  G902826605      295  4489169         0.006571\n",
       "12830  G902827015     9326  2492225         0.374204\n",
       "12831  G902827055      218  2266725         0.009617\n",
       "\n",
       "[12832 rows x 4 columns]"
      ]
     },
     "execution_count": 4,
     "metadata": {},
     "output_type": "execute_result"
    }
   ],
   "source": [
    "cov"
   ]
  },
  {
   "cell_type": "code",
   "execution_count": 5,
   "id": "331c4c53-4d46-402c-8254-4faf6d4f8845",
   "metadata": {},
   "outputs": [],
   "source": [
    "ft = qiita_table.transpose()"
   ]
  },
  {
   "cell_type": "code",
   "execution_count": 6,
   "id": "90142882-487c-4ce6-84f7-e13707589325",
   "metadata": {},
   "outputs": [],
   "source": [
    "cov = cov.set_index('genome_id')"
   ]
  },
  {
   "cell_type": "code",
   "execution_count": 7,
   "id": "0431d710-2a03-42e8-b4f5-d6c695f3840d",
   "metadata": {},
   "outputs": [],
   "source": [
    "cov = cov.loc[cov.index.intersection(ft.index)]"
   ]
  },
  {
   "cell_type": "code",
   "execution_count": 8,
   "id": "9a5ef8a4-3a31-45ff-a8b4-54bba1c5a093",
   "metadata": {},
   "outputs": [],
   "source": [
    "ft['percent_covered'] = cov['percent_covered']"
   ]
  },
  {
   "cell_type": "code",
   "execution_count": 9,
   "id": "ed0d85e0-aafc-459b-9931-5a986103874a",
   "metadata": {},
   "outputs": [
    {
     "data": {
      "text/plain": [
       "1419"
      ]
     },
     "execution_count": 9,
     "metadata": {},
     "output_type": "execute_result"
    }
   ],
   "source": [
    "#check how many features will drop with a 25% threshold \n",
    "sum(ft['percent_covered'] > 25)"
   ]
  },
  {
   "cell_type": "code",
   "execution_count": 10,
   "id": "3036ac1a-e151-4ed2-a11b-2030d1357df8",
   "metadata": {},
   "outputs": [],
   "source": [
    "ft_filtered = ft[ft['percent_covered']  > 25]"
   ]
  },
  {
   "cell_type": "code",
   "execution_count": 11,
   "id": "3e50b75e-a809-4e07-af60-6decfa76c1c4",
   "metadata": {},
   "outputs": [],
   "source": [
    "ft_filtered = ft_filtered.transpose()"
   ]
  },
  {
   "cell_type": "code",
   "execution_count": 12,
   "id": "7eaae5d9-84c1-4947-8985-a528649ad71f",
   "metadata": {},
   "outputs": [],
   "source": [
    "ft_filtered = ft_filtered.drop(\"percent_covered\")"
   ]
  },
  {
   "cell_type": "code",
   "execution_count": 14,
   "id": "5d50cf04-034e-4b8f-91b9-8bbb161c2aa1",
   "metadata": {},
   "outputs": [],
   "source": [
    "ft_filtered.to_csv('zebra_feature-table.tsv', sep = '\\t')"
   ]
  }
 ],
 "metadata": {
  "kernelspec": {
   "display_name": "TESTING_qiime2-2023.5",
   "language": "python",
   "name": "testing_2023.5"
  },
  "language_info": {
   "codemirror_mode": {
    "name": "ipython",
    "version": 3
   },
   "file_extension": ".py",
   "mimetype": "text/x-python",
   "name": "python",
   "nbconvert_exporter": "python",
   "pygments_lexer": "ipython3",
   "version": "3.8.16"
  }
 },
 "nbformat": 4,
 "nbformat_minor": 5
}
